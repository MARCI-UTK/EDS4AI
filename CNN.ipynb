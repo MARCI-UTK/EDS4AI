{
 "cells": [
  {
   "cell_type": "code",
   "execution_count": 31,
   "metadata": {},
   "outputs": [],
   "source": [
    "import torch\n",
    "import torchvision\n",
    "import torchvision.transforms as transforms\n",
    "from torch import nn\n",
    "from torch.utils.data import random_split\n",
    "import torch.nn.functional as F\n",
    "#import torch.optim as optim\n",
    "\n",
    "import pandas as pd\n",
    "import seaborn as sns\n"
   ]
  },
  {
   "cell_type": "code",
   "execution_count": 32,
   "metadata": {},
   "outputs": [
    {
     "name": "stdout",
     "output_type": "stream",
     "text": [
      "Files already downloaded and verified\n",
      "50000\n",
      "5000\n",
      "5000\n"
     ]
    }
   ],
   "source": [
    "transform = transforms.Compose(\n",
    "    [transforms.ToTensor(),\n",
    "     transforms.Normalize((0.5, 0.5, 0.5), (0.5, 0.5, 0.5))])\n",
    "\n",
    "batch_size = 128\n",
    "\n",
    "\n",
    "trainset = torchvision.datasets.CIFAR10(root='./data', train=True,\n",
    "                                       download=True, transform=transform)\n",
    "\n",
    "testvalset = torchvision.datasets.CIFAR10(root='./data/', train=False,\n",
    "                                          download=False, transform=transform)\n",
    "\n",
    "testset, valset = random_split(testvalset, [0.5, 0.5])\n",
    "\n",
    "trainloader = torch.utils.data.DataLoader(trainset, batch_size=batch_size,\n",
    "                                          shuffle=True, num_workers=2)\n",
    "\n",
    "testloader = torch.utils.data.DataLoader(testset, batch_size=batch_size,\n",
    "                                          shuffle=True, num_workers=2)\n",
    "\n",
    "valloader = torch.utils.data.DataLoader(valset, batch_size=batch_size,\n",
    "                                          shuffle=True, num_workers=2)\n",
    "\n",
    "print(len(trainset))\n",
    "print(len(testset))\n",
    "print(len(valset))\n",
    "\n",
    "# print(len(dataset))\n",
    "\n",
    "classes = ('plane', 'car', 'bird', 'cat',\n",
    "           'deer', 'dog', 'frog', 'horse', 'ship', 'truck')\n",
    "\n"
   ]
  },
  {
   "cell_type": "code",
   "execution_count": 33,
   "metadata": {},
   "outputs": [
    {
     "name": "stdout",
     "output_type": "stream",
     "text": [
      "cuda:0\n"
     ]
    }
   ],
   "source": [
    "device = torch.device(\"cuda:0\" if torch.cuda.is_available() else \"cpu\")\n",
    "print(device)\n"
   ]
  },
  {
   "cell_type": "code",
   "execution_count": null,
   "metadata": {},
   "outputs": [
    {
     "ename": "ImportError",
     "evalue": "cannot import name 'init_weights' from 'NNs' (/data/marci/mjakowsk/EDS4AI/NNs.py)",
     "output_type": "error",
     "traceback": [
      "\u001b[0;31m---------------------------------------------------------------------------\u001b[0m",
      "\u001b[0;31mImportError\u001b[0m                               Traceback (most recent call last)",
      "Cell \u001b[0;32mIn[34], line 1\u001b[0m\n\u001b[0;32m----> 1\u001b[0m \u001b[38;5;28;01mfrom\u001b[39;00m \u001b[38;5;21;01mNNs\u001b[39;00m \u001b[38;5;28;01mimport\u001b[39;00m CNN, init_weights\n\u001b[1;32m      3\u001b[0m model \u001b[38;5;241m=\u001b[39m CNN()\u001b[38;5;241m.\u001b[39mto(device)\n\u001b[1;32m      4\u001b[0m model\u001b[38;5;241m.\u001b[39mapply(init_weights)\n",
      "\u001b[0;31mImportError\u001b[0m: cannot import name 'init_weights' from 'NNs' (/data/marci/mjakowsk/EDS4AI/NNs.py)"
     ]
    }
   ],
   "source": [
    "\n",
    "from NNs import init_weights, CNN\n",
    "\n",
    "model = CNN().to(device)\n",
    "model.apply(init_weights)"
   ]
  },
  {
   "cell_type": "code",
   "execution_count": null,
   "metadata": {},
   "outputs": [],
   "source": [
    "#print_output_shape = False\n",
    "\n",
    "\n",
    "#data_iter = iter(trainset)\n",
    "\n",
    "#for i in range(3):\n",
    "    #(data, label) = next(data_iter)\n",
    "#im = data\n",
    "#data = data.unsqueeze(0)\n",
    "#input_shape = data.shape\n",
    "\n",
    "#if (print_output_shape):\n",
    "    #print(data.shape)\n",
    "    #print(model(data))\n",
    "    #print('\\n')\n",
    "\n",
    "\n",
    "#from torchsummary import summary\n",
    "#_ = summary(model, ( 3, 32, 32))\n",
    "\n",
    "#print(model(data).shape)"
   ]
  },
  {
   "cell_type": "code",
   "execution_count": null,
   "metadata": {},
   "outputs": [],
   "source": [
    "from torch.optim.lr_scheduler import StepLR\n",
    "\n",
    "criterion = nn.CrossEntropyLoss()\n",
    "optimizer = torch.optim.SGD(model.parameters(), lr=0.05, weight_decay=0.001)\n",
    "scheduler = StepLR(optimizer, step_size=1, gamma=0.97)\n"
   ]
  },
  {
   "cell_type": "code",
   "execution_count": null,
   "metadata": {},
   "outputs": [
    {
     "ename": "ImportError",
     "evalue": "cannot import name 'calculate_valloss' from 'Helper_Functions' (/data/marci/mjakowsk/EDS4AI/Helper_Functions.py)",
     "output_type": "error",
     "traceback": [
      "\u001b[0;31m---------------------------------------------------------------------------\u001b[0m",
      "\u001b[0;31mImportError\u001b[0m                               Traceback (most recent call last)",
      "Cell \u001b[0;32mIn[22], line 4\u001b[0m\n\u001b[1;32m      1\u001b[0m \u001b[38;5;66;03m#epoch_number = 75\u001b[39;00m\n\u001b[1;32m      2\u001b[0m epoch_number \u001b[38;5;241m=\u001b[39m \u001b[38;5;241m130\u001b[39m\n\u001b[0;32m----> 4\u001b[0m \u001b[38;5;28;01mfrom\u001b[39;00m \u001b[38;5;21;01mHelper_Functions\u001b[39;00m \u001b[38;5;28;01mimport\u001b[39;00m calculate_valloss, calculate_accuracy, save_checkpoint\n\u001b[1;32m      7\u001b[0m epoch_list \u001b[38;5;241m=\u001b[39m []\n\u001b[1;32m      8\u001b[0m loss_list \u001b[38;5;241m=\u001b[39m []\n",
      "\u001b[0;31mImportError\u001b[0m: cannot import name 'calculate_valloss' from 'Helper_Functions' (/data/marci/mjakowsk/EDS4AI/Helper_Functions.py)"
     ]
    }
   ],
   "source": [
    "#epoch_number = 75\n",
    "epoch_number = 130\n",
    "\n",
    "from Helper_Functions import calculate_valloss, calculate_accuracy, save_checkpoint\n",
    "\n",
    "\n",
    "epoch_list = []\n",
    "loss_list = []\n",
    "\n",
    "val_accuracy_list = []\n",
    "val_loss_list = []\n",
    "epoch_range_list = list(range(epoch_number))\n",
    "\n",
    "\n",
    "for epoch in range(epoch_number):  # loop over the dataset multiple times\n",
    "    n_batches = 0\n",
    "    running_loss = 0.0\n",
    "\n",
    "\n",
    "    for i, data in enumerate(trainloader, 0):\n",
    "        # get the inputs; data is a list of [inputs, labels]\n",
    "        inputs, labels = data\n",
    "        inputs = inputs.to(device)\n",
    "        labels = labels.to(device)\n",
    "\n",
    "        # zero the parameter gradients\n",
    "        optimizer.zero_grad()\n",
    "\n",
    "        # forward + backward + optimize\n",
    "       \n",
    "        outputs = model(inputs)\n",
    "        #print(outputs)\n",
    "\n",
    "        loss = criterion(outputs, labels)\n",
    "        loss.backward()\n",
    "        optimizer.step()\n",
    "\n",
    "        # print statistics\n",
    "        running_loss += loss.item()\n",
    "        n_batches += 1\n",
    "\n",
    "    epoch_list.append(epoch+1)\n",
    "    loss_list.append(running_loss/n_batches)\n",
    "    \n",
    "    print(f'[{epoch + 1}, {i + 1:5d}] loss: {running_loss / 40:.7f}')\n",
    "    running_loss = 0.0\n",
    "\n",
    "    val_accuracy_list.append(calculate_accuracy(model, valloader))\n",
    "    val_loss_list.append(calculate_valloss(model, criterion, valloader, device))\n",
    "\n",
    "\n",
    "    if (epoch+1) % 5 == 0:\n",
    "        save_checkpoint(model, optimizer, epoch+1, loss.item(), ilename=f\"checkpoints/checkpoint_{epoch + 1}.pth\")\n",
    "        \n",
    "\n",
    "    scheduler.step()\n",
    "\n",
    "\n",
    "print('Finished Training')"
   ]
  },
  {
   "cell_type": "code",
   "execution_count": null,
   "metadata": {},
   "outputs": [
    {
     "ename": "NameError",
     "evalue": "name 'loss_list' is not defined",
     "output_type": "error",
     "traceback": [
      "\u001b[0;31m---------------------------------------------------------------------------\u001b[0m",
      "\u001b[0;31mNameError\u001b[0m                                 Traceback (most recent call last)",
      "Cell \u001b[0;32mIn[11], line 1\u001b[0m\n\u001b[0;32m----> 1\u001b[0m dic \u001b[38;5;241m=\u001b[39m {\u001b[38;5;124m'\u001b[39m\u001b[38;5;124mlosses\u001b[39m\u001b[38;5;124m'\u001b[39m:\u001b[43mloss_list\u001b[49m, \u001b[38;5;124m'\u001b[39m\u001b[38;5;124mepoch\u001b[39m\u001b[38;5;124m'\u001b[39m:epoch_list, }\n\u001b[1;32m      2\u001b[0m df \u001b[38;5;241m=\u001b[39m pd\u001b[38;5;241m.\u001b[39mDataFrame(data\u001b[38;5;241m=\u001b[39mdic)\n\u001b[1;32m      3\u001b[0m \u001b[38;5;66;03m#df = df[150:]\u001b[39;00m\n",
      "\u001b[0;31mNameError\u001b[0m: name 'loss_list' is not defined"
     ]
    }
   ],
   "source": [
    "dic = {'losses':loss_list, 'epoch':epoch_list, \"batch\":minibatch_number_list}\n",
    "df = pd.DataFrame(data=dic)\n",
    "#df = df[150:]\n",
    "\n",
    "p = sns.lineplot(data=df, x=df.index, y='losses')\n",
    "p.set_xlabel(\"Epoch\")\n",
    "p.set_ylabel(\"Avg Cross Entropy Loss\")\n",
    "p.set_title(\"Training Loss\")\n"
   ]
  },
  {
   "cell_type": "code",
   "execution_count": null,
   "metadata": {},
   "outputs": [
    {
     "data": {
      "text/plain": [
       "Text(0.5, 1.0, 'Validation Accuracy per Epoch')"
      ]
     },
     "execution_count": 41,
     "metadata": {},
     "output_type": "execute_result"
    },
    {
     "data": {
      "image/png": "[encoded data removed]",
      "text/plain": [
       "<Figure size 640x480 with 1 Axes>"
      ]
     },
     "metadata": {},
     "output_type": "display_data"
    }
   ],
   "source": [
    "dic2 = {'Validation Accuracy':val_accuracy_list, 'Epoch':epoch_range_list}\n",
    "df2 = pd.DataFrame(data=dic2)\n",
    "\n",
    "p2 = sns.lineplot(data=df2, x='Epoch', y='Validation Accuracy', color='red')\n",
    "p2.set_title('Validation Accuracy per Epoch')\n",
    "\n"
   ]
  },
  {
   "cell_type": "code",
   "execution_count": null,
   "metadata": {},
   "outputs": [],
   "source": [
    "test_single_image = False\n",
    "\n",
    "if (test_single_image):\n",
    "    data_iter = iter(testset)\n",
    "\n",
    "    for i in range(40):\n",
    "        (data, label) = next(data_iter)\n",
    "    im = data\n",
    "    data = data.unsqueeze(0)\n",
    "    soft = nn.Softmax(dim=1)\n",
    "    imshow(im)\n",
    "    print(label)\n",
    "\n",
    "    model_output = model(data)\n",
    "    prediction = soft(model_output)\n",
    "\n",
    "    _, ind = (torch.max(prediction, dim=1))\n",
    "    print(ind)\n",
    "    print(\"\\n\")\n",
    "\n",
    "#from torchviz import make_dot, make_dot_from_trace\n",
    "#make_dot(model_output.mean(), params=dict(model.named_parameters()))\n",
    "\n",
    "\n"
   ]
  },
  {
   "cell_type": "code",
   "execution_count": null,
   "metadata": {},
   "outputs": [
    {
     "data": {
      "text/plain": [
       "0.8358"
      ]
     },
     "execution_count": 43,
     "metadata": {},
     "output_type": "execute_result"
    }
   ],
   "source": [
    "\n",
    "calculate_accuracy(model, testloader)\n"
   ]
  },
  {
   "cell_type": "code",
   "execution_count": null,
   "metadata": {},
   "outputs": [],
   "source": []
  },
  {
   "cell_type": "markdown",
   "metadata": {},
   "source": [
    "### Code to save Model"
   ]
  },
  {
   "cell_type": "code",
   "execution_count": null,
   "metadata": {},
   "outputs": [],
   "source": [
    "torch.save(model.state_dict(), \"model_weights_130_epochs\")"
   ]
  },
  {
   "cell_type": "code",
   "execution_count": null,
   "metadata": {},
   "outputs": [],
   "source": []
  }
 ],
 "metadata": {
  "kernelspec": {
   "display_name": "Python 3",
   "language": "python",
   "name": "python3"
  },
  "language_info": {
   "codemirror_mode": {
    "name": "ipython",
    "version": 3
   },
   "file_extension": ".py",
   "mimetype": "text/x-python",
   "name": "python",
   "nbconvert_exporter": "python",
   "pygments_lexer": "ipython3",
   "version": "3.12.5"
  }
 },
 "nbformat": 4,
 "nbformat_minor": 4
}
