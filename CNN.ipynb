{
 "cells": [
  {
   "cell_type": "code",
   "execution_count": 1,
   "metadata": {},
   "outputs": [
    {
     "name": "stderr",
     "output_type": "stream",
     "text": [
      "\n",
      "A module that was compiled using NumPy 1.x cannot be run in\n",
      "NumPy 2.2.1 as it may crash. To support both 1.x and 2.x\n",
      "versions of NumPy, modules must be compiled with NumPy 2.0.\n",
      "Some module may need to rebuild instead e.g. with 'pybind11>=2.12'.\n",
      "\n",
      "If you are a user of the module, the easiest solution will be to\n",
      "downgrade to 'numpy<2' or try to upgrade the affected module.\n",
      "We expect that some modules will need time to support NumPy 2.\n",
      "\n",
      "Traceback (most recent call last):  File \"/data/marci/mjakowsk/miniconda3/envs/eds4ai/lib/python3.10/runpy.py\", line 196, in _run_module_as_main\n",
      "    return _run_code(code, main_globals, None,\n",
      "  File \"/data/marci/mjakowsk/miniconda3/envs/eds4ai/lib/python3.10/runpy.py\", line 86, in _run_code\n",
      "    exec(code, run_globals)\n",
      "  File \"/data/marci/mjakowsk/miniconda3/envs/eds4ai/lib/python3.10/site-packages/ipykernel_launcher.py\", line 18, in <module>\n",
      "    app.launch_new_instance()\n",
      "  File \"/data/marci/mjakowsk/miniconda3/envs/eds4ai/lib/python3.10/site-packages/traitlets/config/application.py\", line 1075, in launch_instance\n",
      "    app.start()\n",
      "  File \"/data/marci/mjakowsk/miniconda3/envs/eds4ai/lib/python3.10/site-packages/ipykernel/kernelapp.py\", line 739, in start\n",
      "    self.io_loop.start()\n",
      "  File \"/data/marci/mjakowsk/miniconda3/envs/eds4ai/lib/python3.10/site-packages/tornado/platform/asyncio.py\", line 205, in start\n",
      "    self.asyncio_loop.run_forever()\n",
      "  File \"/data/marci/mjakowsk/miniconda3/envs/eds4ai/lib/python3.10/asyncio/base_events.py\", line 603, in run_forever\n",
      "    self._run_once()\n",
      "  File \"/data/marci/mjakowsk/miniconda3/envs/eds4ai/lib/python3.10/asyncio/base_events.py\", line 1909, in _run_once\n",
      "    handle._run()\n",
      "  File \"/data/marci/mjakowsk/miniconda3/envs/eds4ai/lib/python3.10/asyncio/events.py\", line 80, in _run\n",
      "    self._context.run(self._callback, *self._args)\n",
      "  File \"/data/marci/mjakowsk/miniconda3/envs/eds4ai/lib/python3.10/site-packages/ipykernel/kernelbase.py\", line 545, in dispatch_queue\n",
      "    await self.process_one()\n",
      "  File \"/data/marci/mjakowsk/miniconda3/envs/eds4ai/lib/python3.10/site-packages/ipykernel/kernelbase.py\", line 534, in process_one\n",
      "    await dispatch(*args)\n",
      "  File \"/data/marci/mjakowsk/miniconda3/envs/eds4ai/lib/python3.10/site-packages/ipykernel/kernelbase.py\", line 437, in dispatch_shell\n",
      "    await result\n",
      "  File \"/data/marci/mjakowsk/miniconda3/envs/eds4ai/lib/python3.10/site-packages/ipykernel/ipkernel.py\", line 362, in execute_request\n",
      "    await super().execute_request(stream, ident, parent)\n",
      "  File \"/data/marci/mjakowsk/miniconda3/envs/eds4ai/lib/python3.10/site-packages/ipykernel/kernelbase.py\", line 778, in execute_request\n",
      "    reply_content = await reply_content\n",
      "  File \"/data/marci/mjakowsk/miniconda3/envs/eds4ai/lib/python3.10/site-packages/ipykernel/ipkernel.py\", line 449, in do_execute\n",
      "    res = shell.run_cell(\n",
      "  File \"/data/marci/mjakowsk/miniconda3/envs/eds4ai/lib/python3.10/site-packages/ipykernel/zmqshell.py\", line 549, in run_cell\n",
      "    return super().run_cell(*args, **kwargs)\n",
      "  File \"/data/marci/mjakowsk/miniconda3/envs/eds4ai/lib/python3.10/site-packages/IPython/core/interactiveshell.py\", line 3048, in run_cell\n",
      "    result = self._run_cell(\n",
      "  File \"/data/marci/mjakowsk/miniconda3/envs/eds4ai/lib/python3.10/site-packages/IPython/core/interactiveshell.py\", line 3103, in _run_cell\n",
      "    result = runner(coro)\n",
      "  File \"/data/marci/mjakowsk/miniconda3/envs/eds4ai/lib/python3.10/site-packages/IPython/core/async_helpers.py\", line 129, in _pseudo_sync_runner\n",
      "    coro.send(None)\n",
      "  File \"/data/marci/mjakowsk/miniconda3/envs/eds4ai/lib/python3.10/site-packages/IPython/core/interactiveshell.py\", line 3308, in run_cell_async\n",
      "    has_raised = await self.run_ast_nodes(code_ast.body, cell_name,\n",
      "  File \"/data/marci/mjakowsk/miniconda3/envs/eds4ai/lib/python3.10/site-packages/IPython/core/interactiveshell.py\", line 3490, in run_ast_nodes\n",
      "    if await self.run_code(code, result, async_=asy):\n",
      "  File \"/data/marci/mjakowsk/miniconda3/envs/eds4ai/lib/python3.10/site-packages/IPython/core/interactiveshell.py\", line 3550, in run_code\n",
      "    exec(code_obj, self.user_global_ns, self.user_ns)\n",
      "  File \"/tmp/ipykernel_3808212/1346408794.py\", line 1, in <module>\n",
      "    import torch\n",
      "  File \"/data/marci/mjakowsk/miniconda3/envs/eds4ai/lib/python3.10/site-packages/torch/__init__.py\", line 1477, in <module>\n",
      "    from .functional import *  # noqa: F403\n",
      "  File \"/data/marci/mjakowsk/miniconda3/envs/eds4ai/lib/python3.10/site-packages/torch/functional.py\", line 9, in <module>\n",
      "    import torch.nn.functional as F\n",
      "  File \"/data/marci/mjakowsk/miniconda3/envs/eds4ai/lib/python3.10/site-packages/torch/nn/__init__.py\", line 1, in <module>\n",
      "    from .modules import *  # noqa: F403\n",
      "  File \"/data/marci/mjakowsk/miniconda3/envs/eds4ai/lib/python3.10/site-packages/torch/nn/modules/__init__.py\", line 35, in <module>\n",
      "    from .transformer import TransformerEncoder, TransformerDecoder, \\\n",
      "  File \"/data/marci/mjakowsk/miniconda3/envs/eds4ai/lib/python3.10/site-packages/torch/nn/modules/transformer.py\", line 20, in <module>\n",
      "    device: torch.device = torch.device(torch._C._get_default_device()),  # torch.device('cpu'),\n",
      "/data/marci/mjakowsk/miniconda3/envs/eds4ai/lib/python3.10/site-packages/torch/nn/modules/transformer.py:20: UserWarning: Failed to initialize NumPy: _ARRAY_API not found (Triggered internally at /opt/conda/conda-bld/pytorch_1711403233856/work/torch/csrc/utils/tensor_numpy.cpp:84.)\n",
      "  device: torch.device = torch.device(torch._C._get_default_device()),  # torch.device('cpu'),\n"
     ]
    }
   ],
   "source": [
    "import torch\n",
    "import torchvision\n",
    "import torchvision.transforms as transforms\n",
    "from torch import nn\n",
    "from torch.utils.data import random_split\n",
    "import torch.nn.functional as F\n",
    "#import torch.optim as optim\n",
    "\n",
    "import pandas as pd\n",
    "import seaborn as sns\n",
    "import sys\n"
   ]
  },
  {
   "cell_type": "code",
   "execution_count": 2,
   "metadata": {},
   "outputs": [
    {
     "data": {
      "text/plain": [
       "False"
      ]
     },
     "execution_count": 2,
     "metadata": {},
     "output_type": "execute_result"
    }
   ],
   "source": [
    "import torch\n",
    "torch.cuda.is_available()\n"
   ]
  },
  {
   "cell_type": "code",
   "execution_count": 3,
   "metadata": {},
   "outputs": [],
   "source": [
    "### Set seed\n",
    "seed = 43\n",
    "torch.manual_seed(seed)\n",
    "\n",
    "# Set Xavier Scaling\n",
    "xavier_scale = 1"
   ]
  },
  {
   "cell_type": "code",
   "execution_count": 4,
   "metadata": {},
   "outputs": [],
   "source": [
    "from pathlib import Path\n",
    "import os\n",
    "\n",
    "#create trial_name\n",
    "trial_name = \"sd\" + str(seed) + '_xs' + str(xavier_scale)\n",
    "trial_name = trial_name.replace('.', '-')\n",
    "plot_dir = f\"./trials/{trial_name}/plots\"\n",
    "\n",
    "#checkpoint_filename = f\"./trials/{trial_name}/checkpoints/bruh.txt\"\n",
    "#os.makedirs(os.path.dirname(checkpoint_filename), exist_ok=True)\n",
    "\n",
    "#with open(checkpoint_filename, \"w\") as f:\n",
    "    #f.write(\"Bruh\")\n"
   ]
  },
  {
   "cell_type": "code",
   "execution_count": null,
   "metadata": {},
   "outputs": [],
   "source": []
  },
  {
   "cell_type": "code",
   "execution_count": 5,
   "metadata": {},
   "outputs": [],
   "source": [
    "# %load NNs.py"
   ]
  },
  {
   "cell_type": "code",
   "execution_count": 6,
   "metadata": {},
   "outputs": [
    {
     "name": "stdout",
     "output_type": "stream",
     "text": [
      "Files already downloaded and verified\n",
      "50000\n",
      "5000\n",
      "5000\n"
     ]
    }
   ],
   "source": [
    "transform = transforms.Compose(\n",
    "    [#transforms.ToTensor(),\n",
    "     transforms.Normalize((0.5, 0.5, 0.5), (0.5, 0.5, 0.5)),\n",
    "     transforms.RandomHorizontalFlip(),\n",
    "    transforms.RandomRotation(10),\n",
    "    transforms.ColorJitter(brightness=0.2, contrast=0.2),\n",
    "     transforms.ToTensor(),\n",
    "     ])\n",
    "\n",
    "batch_size = 128\n",
    "\n",
    "\n",
    "trainset = torchvision.datasets.CIFAR10(root='./data', train=True,\n",
    "                                       download=True, transform=transform)\n",
    "\n",
    "testvalset = torchvision.datasets.CIFAR10(root='./data/', train=False,\n",
    "                                          download=False, transform=transform)\n",
    "\n",
    "testset, valset = random_split(testvalset, [0.5, 0.5])\n",
    "\n",
    "trainloader = torch.utils.data.DataLoader(trainset, batch_size=batch_size,\n",
    "                                          shuffle=True, num_workers=2)\n",
    "\n",
    "testloader = torch.utils.data.DataLoader(testset, batch_size=batch_size,\n",
    "                                          shuffle=True, num_workers=2)\n",
    "\n",
    "valloader = torch.utils.data.DataLoader(valset, batch_size=batch_size,\n",
    "                                          shuffle=True, num_workers=2)\n",
    "\n",
    "print(len(trainset))\n",
    "print(len(testset))\n",
    "print(len(valset))\n",
    "\n",
    "# print(len(dataset))\n",
    "\n",
    "classes = ('plane', 'car', 'bird', 'cat',\n",
    "           'deer', 'dog', 'frog', 'horse', 'ship', 'truck')\n",
    "\n",
    "\n"
   ]
  },
  {
   "cell_type": "code",
   "execution_count": 7,
   "metadata": {},
   "outputs": [],
   "source": [
    "#print(trainset[0][0])"
   ]
  },
  {
   "cell_type": "code",
   "execution_count": 8,
   "metadata": {},
   "outputs": [
    {
     "name": "stdout",
     "output_type": "stream",
     "text": [
      "cpu\n"
     ]
    }
   ],
   "source": [
    "device = torch.device(\"cuda:0\" if torch.cuda.is_available() else \"cpu\")\n",
    "print(device)\n"
   ]
  },
  {
   "cell_type": "code",
   "execution_count": 9,
   "metadata": {},
   "outputs": [
    {
     "data": {
      "text/plain": [
       "CNN(\n",
       "  (InputDropout): Dropout(p=0.2, inplace=False)\n",
       "  (ConvBlock1): Sequential(\n",
       "    (0): Conv2d(3, 96, kernel_size=(3, 3), stride=(1, 1), padding=(1, 1))\n",
       "    (1): ReLU()\n",
       "  )\n",
       "  (ConvBlock2): Sequential(\n",
       "    (0): Conv2d(96, 96, kernel_size=(3, 3), stride=(1, 1), padding=(1, 1))\n",
       "    (1): ReLU()\n",
       "  )\n",
       "  (PoolBlock1): Sequential(\n",
       "    (0): Conv2d(96, 96, kernel_size=(3, 3), stride=(2, 2), padding=(1, 1))\n",
       "    (1): BatchNorm2d(96, eps=1e-05, momentum=0.1, affine=True, track_running_stats=True)\n",
       "    (2): ReLU()\n",
       "    (3): Dropout(p=0.5, inplace=False)\n",
       "  )\n",
       "  (ConvBlock3): Sequential(\n",
       "    (0): Conv2d(96, 192, kernel_size=(3, 3), stride=(1, 1), padding=(1, 1))\n",
       "    (1): ReLU()\n",
       "  )\n",
       "  (ConvBlock4): Sequential(\n",
       "    (0): Conv2d(192, 192, kernel_size=(3, 3), stride=(1, 1), padding=(1, 1))\n",
       "    (1): ReLU()\n",
       "  )\n",
       "  (PoolBlock2): Sequential(\n",
       "    (0): Conv2d(192, 192, kernel_size=(3, 3), stride=(2, 2), padding=(1, 1))\n",
       "    (1): BatchNorm2d(192, eps=1e-05, momentum=0.1, affine=True, track_running_stats=True)\n",
       "    (2): ReLU()\n",
       "    (3): Dropout(p=0.5, inplace=False)\n",
       "  )\n",
       "  (ConvBlock5): Sequential(\n",
       "    (0): Conv2d(192, 192, kernel_size=(3, 3), stride=(1, 1))\n",
       "    (1): ReLU()\n",
       "  )\n",
       "  (LinLayer1): Sequential(\n",
       "    (0): Conv2d(192, 192, kernel_size=(1, 1), stride=(1, 1))\n",
       "    (1): ReLU()\n",
       "  )\n",
       "  (LinLayer2): Sequential(\n",
       "    (0): Conv2d(192, 10, kernel_size=(1, 1), stride=(1, 1))\n",
       "    (1): ReLU()\n",
       "  )\n",
       "  (FinalPool): AvgPool2d(kernel_size=6, stride=6, padding=0)\n",
       ")"
      ]
     },
     "execution_count": 9,
     "metadata": {},
     "output_type": "execute_result"
    }
   ],
   "source": [
    "\n",
    "from NNs import init_weights, CNN\n",
    "\n",
    "model = CNN().to(device)\n",
    "model.apply(lambda module: init_weights(m=module, xavier_scale=xavier_scale))"
   ]
  },
  {
   "cell_type": "code",
   "execution_count": 10,
   "metadata": {},
   "outputs": [],
   "source": [
    "#print(model.ConvBlock1[0].weight)"
   ]
  },
  {
   "cell_type": "code",
   "execution_count": null,
   "metadata": {},
   "outputs": [],
   "source": []
  },
  {
   "cell_type": "code",
   "execution_count": 11,
   "metadata": {},
   "outputs": [],
   "source": [
    "#print_output_shape = False\n",
    "\n",
    "\n",
    "#data_iter = iter(trainset)\n",
    "\n",
    "#for i in range(3):\n",
    "    #(data, label) = next(data_iter)\n",
    "#im = data\n",
    "#data = data.unsqueeze(0)\n",
    "#input_shape = data.shape\n",
    "\n",
    "#print(data.shape)\n",
    "\n",
    "#if (print_output_shape):\n",
    "    #print(data.shape)\n",
    "    #print(model(data))\n",
    "    #print('\\n')\n",
    "\n",
    "\n",
    "#from torchsummary import summary\n",
    "#_ = summary(model, ( 3, 32, 32))\n",
    "\n",
    "##print(model(data).shape)"
   ]
  },
  {
   "cell_type": "code",
   "execution_count": 12,
   "metadata": {},
   "outputs": [],
   "source": [
    "from torch.optim.lr_scheduler import StepLR\n",
    "\n",
    "criterion = nn.CrossEntropyLoss()\n",
    "optimizer = torch.optim.SGD(model.parameters(), lr=0.05, weight_decay=0.001)\n",
    "scheduler = StepLR(optimizer, step_size=1, gamma=0.97)\n"
   ]
  },
  {
   "cell_type": "code",
   "execution_count": 13,
   "metadata": {},
   "outputs": [
    {
     "ename": "TypeError",
     "evalue": "Caught TypeError in DataLoader worker process 0.\nOriginal Traceback (most recent call last):\n  File \"/data/marci/mjakowsk/miniconda3/envs/eds4ai/lib/python3.10/site-packages/torch/utils/data/_utils/worker.py\", line 308, in _worker_loop\n    data = fetcher.fetch(index)\n  File \"/data/marci/mjakowsk/miniconda3/envs/eds4ai/lib/python3.10/site-packages/torch/utils/data/_utils/fetch.py\", line 51, in fetch\n    data = [self.dataset[idx] for idx in possibly_batched_index]\n  File \"/data/marci/mjakowsk/miniconda3/envs/eds4ai/lib/python3.10/site-packages/torch/utils/data/_utils/fetch.py\", line 51, in <listcomp>\n    data = [self.dataset[idx] for idx in possibly_batched_index]\n  File \"/data/marci/mjakowsk/miniconda3/envs/eds4ai/lib/python3.10/site-packages/torchvision/datasets/cifar.py\", line 118, in __getitem__\n    img = self.transform(img)\n  File \"/data/marci/mjakowsk/miniconda3/envs/eds4ai/lib/python3.10/site-packages/torchvision/transforms/transforms.py\", line 95, in __call__\n    img = t(img)\n  File \"/data/marci/mjakowsk/miniconda3/envs/eds4ai/lib/python3.10/site-packages/torch/nn/modules/module.py\", line 1511, in _wrapped_call_impl\n    return self._call_impl(*args, **kwargs)\n  File \"/data/marci/mjakowsk/miniconda3/envs/eds4ai/lib/python3.10/site-packages/torch/nn/modules/module.py\", line 1520, in _call_impl\n    return forward_call(*args, **kwargs)\n  File \"/data/marci/mjakowsk/miniconda3/envs/eds4ai/lib/python3.10/site-packages/torchvision/transforms/transforms.py\", line 277, in forward\n    return F.normalize(tensor, self.mean, self.std, self.inplace)\n  File \"/data/marci/mjakowsk/miniconda3/envs/eds4ai/lib/python3.10/site-packages/torchvision/transforms/functional.py\", line 347, in normalize\n    raise TypeError(f\"img should be Tensor Image. Got {type(tensor)}\")\nTypeError: img should be Tensor Image. Got <class 'PIL.Image.Image'>\n",
     "output_type": "error",
     "traceback": [
      "\u001b[0;31m---------------------------------------------------------------------------\u001b[0m",
      "\u001b[0;31mTypeError\u001b[0m                                 Traceback (most recent call last)",
      "Cell \u001b[0;32mIn[13], line 21\u001b[0m\n\u001b[1;32m     17\u001b[0m n_batches \u001b[38;5;241m=\u001b[39m \u001b[38;5;241m0\u001b[39m\n\u001b[1;32m     18\u001b[0m running_loss \u001b[38;5;241m=\u001b[39m \u001b[38;5;241m0.0\u001b[39m\n\u001b[0;32m---> 21\u001b[0m \u001b[38;5;28;01mfor\u001b[39;00m i, data \u001b[38;5;129;01min\u001b[39;00m \u001b[38;5;28menumerate\u001b[39m(trainloader, \u001b[38;5;241m0\u001b[39m):\n\u001b[1;32m     22\u001b[0m     \u001b[38;5;66;03m# get the inputs; data is a list of [inputs, labels]\u001b[39;00m\n\u001b[1;32m     23\u001b[0m     inputs, labels \u001b[38;5;241m=\u001b[39m data\n\u001b[1;32m     24\u001b[0m     inputs \u001b[38;5;241m=\u001b[39m inputs\u001b[38;5;241m.\u001b[39mto(device)\n",
      "File \u001b[0;32m/data/marci/mjakowsk/miniconda3/envs/eds4ai/lib/python3.10/site-packages/torch/utils/data/dataloader.py:631\u001b[0m, in \u001b[0;36m_BaseDataLoaderIter.__next__\u001b[0;34m(self)\u001b[0m\n\u001b[1;32m    628\u001b[0m \u001b[38;5;28;01mif\u001b[39;00m \u001b[38;5;28mself\u001b[39m\u001b[38;5;241m.\u001b[39m_sampler_iter \u001b[38;5;129;01mis\u001b[39;00m \u001b[38;5;28;01mNone\u001b[39;00m:\n\u001b[1;32m    629\u001b[0m     \u001b[38;5;66;03m# TODO(https://github.com/pytorch/pytorch/issues/76750)\u001b[39;00m\n\u001b[1;32m    630\u001b[0m     \u001b[38;5;28mself\u001b[39m\u001b[38;5;241m.\u001b[39m_reset()  \u001b[38;5;66;03m# type: ignore[call-arg]\u001b[39;00m\n\u001b[0;32m--> 631\u001b[0m data \u001b[38;5;241m=\u001b[39m \u001b[38;5;28;43mself\u001b[39;49m\u001b[38;5;241;43m.\u001b[39;49m\u001b[43m_next_data\u001b[49m\u001b[43m(\u001b[49m\u001b[43m)\u001b[49m\n\u001b[1;32m    632\u001b[0m \u001b[38;5;28mself\u001b[39m\u001b[38;5;241m.\u001b[39m_num_yielded \u001b[38;5;241m+\u001b[39m\u001b[38;5;241m=\u001b[39m \u001b[38;5;241m1\u001b[39m\n\u001b[1;32m    633\u001b[0m \u001b[38;5;28;01mif\u001b[39;00m \u001b[38;5;28mself\u001b[39m\u001b[38;5;241m.\u001b[39m_dataset_kind \u001b[38;5;241m==\u001b[39m _DatasetKind\u001b[38;5;241m.\u001b[39mIterable \u001b[38;5;129;01mand\u001b[39;00m \\\n\u001b[1;32m    634\u001b[0m         \u001b[38;5;28mself\u001b[39m\u001b[38;5;241m.\u001b[39m_IterableDataset_len_called \u001b[38;5;129;01mis\u001b[39;00m \u001b[38;5;129;01mnot\u001b[39;00m \u001b[38;5;28;01mNone\u001b[39;00m \u001b[38;5;129;01mand\u001b[39;00m \\\n\u001b[1;32m    635\u001b[0m         \u001b[38;5;28mself\u001b[39m\u001b[38;5;241m.\u001b[39m_num_yielded \u001b[38;5;241m>\u001b[39m \u001b[38;5;28mself\u001b[39m\u001b[38;5;241m.\u001b[39m_IterableDataset_len_called:\n",
      "File \u001b[0;32m/data/marci/mjakowsk/miniconda3/envs/eds4ai/lib/python3.10/site-packages/torch/utils/data/dataloader.py:1346\u001b[0m, in \u001b[0;36m_MultiProcessingDataLoaderIter._next_data\u001b[0;34m(self)\u001b[0m\n\u001b[1;32m   1344\u001b[0m \u001b[38;5;28;01melse\u001b[39;00m:\n\u001b[1;32m   1345\u001b[0m     \u001b[38;5;28;01mdel\u001b[39;00m \u001b[38;5;28mself\u001b[39m\u001b[38;5;241m.\u001b[39m_task_info[idx]\n\u001b[0;32m-> 1346\u001b[0m     \u001b[38;5;28;01mreturn\u001b[39;00m \u001b[38;5;28;43mself\u001b[39;49m\u001b[38;5;241;43m.\u001b[39;49m\u001b[43m_process_data\u001b[49m\u001b[43m(\u001b[49m\u001b[43mdata\u001b[49m\u001b[43m)\u001b[49m\n",
      "File \u001b[0;32m/data/marci/mjakowsk/miniconda3/envs/eds4ai/lib/python3.10/site-packages/torch/utils/data/dataloader.py:1372\u001b[0m, in \u001b[0;36m_MultiProcessingDataLoaderIter._process_data\u001b[0;34m(self, data)\u001b[0m\n\u001b[1;32m   1370\u001b[0m \u001b[38;5;28mself\u001b[39m\u001b[38;5;241m.\u001b[39m_try_put_index()\n\u001b[1;32m   1371\u001b[0m \u001b[38;5;28;01mif\u001b[39;00m \u001b[38;5;28misinstance\u001b[39m(data, ExceptionWrapper):\n\u001b[0;32m-> 1372\u001b[0m     \u001b[43mdata\u001b[49m\u001b[38;5;241;43m.\u001b[39;49m\u001b[43mreraise\u001b[49m\u001b[43m(\u001b[49m\u001b[43m)\u001b[49m\n\u001b[1;32m   1373\u001b[0m \u001b[38;5;28;01mreturn\u001b[39;00m data\n",
      "File \u001b[0;32m/data/marci/mjakowsk/miniconda3/envs/eds4ai/lib/python3.10/site-packages/torch/_utils.py:722\u001b[0m, in \u001b[0;36mExceptionWrapper.reraise\u001b[0;34m(self)\u001b[0m\n\u001b[1;32m    718\u001b[0m \u001b[38;5;28;01mexcept\u001b[39;00m \u001b[38;5;167;01mTypeError\u001b[39;00m:\n\u001b[1;32m    719\u001b[0m     \u001b[38;5;66;03m# If the exception takes multiple arguments, don't try to\u001b[39;00m\n\u001b[1;32m    720\u001b[0m     \u001b[38;5;66;03m# instantiate since we don't know how to\u001b[39;00m\n\u001b[1;32m    721\u001b[0m     \u001b[38;5;28;01mraise\u001b[39;00m \u001b[38;5;167;01mRuntimeError\u001b[39;00m(msg) \u001b[38;5;28;01mfrom\u001b[39;00m\u001b[38;5;250m \u001b[39m\u001b[38;5;28;01mNone\u001b[39;00m\n\u001b[0;32m--> 722\u001b[0m \u001b[38;5;28;01mraise\u001b[39;00m exception\n",
      "\u001b[0;31mTypeError\u001b[0m: Caught TypeError in DataLoader worker process 0.\nOriginal Traceback (most recent call last):\n  File \"/data/marci/mjakowsk/miniconda3/envs/eds4ai/lib/python3.10/site-packages/torch/utils/data/_utils/worker.py\", line 308, in _worker_loop\n    data = fetcher.fetch(index)\n  File \"/data/marci/mjakowsk/miniconda3/envs/eds4ai/lib/python3.10/site-packages/torch/utils/data/_utils/fetch.py\", line 51, in fetch\n    data = [self.dataset[idx] for idx in possibly_batched_index]\n  File \"/data/marci/mjakowsk/miniconda3/envs/eds4ai/lib/python3.10/site-packages/torch/utils/data/_utils/fetch.py\", line 51, in <listcomp>\n    data = [self.dataset[idx] for idx in possibly_batched_index]\n  File \"/data/marci/mjakowsk/miniconda3/envs/eds4ai/lib/python3.10/site-packages/torchvision/datasets/cifar.py\", line 118, in __getitem__\n    img = self.transform(img)\n  File \"/data/marci/mjakowsk/miniconda3/envs/eds4ai/lib/python3.10/site-packages/torchvision/transforms/transforms.py\", line 95, in __call__\n    img = t(img)\n  File \"/data/marci/mjakowsk/miniconda3/envs/eds4ai/lib/python3.10/site-packages/torch/nn/modules/module.py\", line 1511, in _wrapped_call_impl\n    return self._call_impl(*args, **kwargs)\n  File \"/data/marci/mjakowsk/miniconda3/envs/eds4ai/lib/python3.10/site-packages/torch/nn/modules/module.py\", line 1520, in _call_impl\n    return forward_call(*args, **kwargs)\n  File \"/data/marci/mjakowsk/miniconda3/envs/eds4ai/lib/python3.10/site-packages/torchvision/transforms/transforms.py\", line 277, in forward\n    return F.normalize(tensor, self.mean, self.std, self.inplace)\n  File \"/data/marci/mjakowsk/miniconda3/envs/eds4ai/lib/python3.10/site-packages/torchvision/transforms/functional.py\", line 347, in normalize\n    raise TypeError(f\"img should be Tensor Image. Got {type(tensor)}\")\nTypeError: img should be Tensor Image. Got <class 'PIL.Image.Image'>\n"
     ]
    }
   ],
   "source": [
    "#epoch_number = 75\n",
    "#epoch_number = 130\n",
    "epoch_number = 8\n",
    "\n",
    "from Helper_Functions import calculate_valloss, calculate_accuracy, save_checkpoint\n",
    "\n",
    "\n",
    "epoch_list = []\n",
    "loss_list = []\n",
    "\n",
    "val_accuracy_list = []\n",
    "val_loss_list = []\n",
    "epoch_range_list = list(range(epoch_number))\n",
    "\n",
    "\n",
    "for epoch in range(epoch_number):  # loop over the dataset multiple times\n",
    "    n_batches = 0\n",
    "    running_loss = 0.0\n",
    "\n",
    "\n",
    "    for i, data in enumerate(trainloader, 0):\n",
    "        # get the inputs; data is a list of [inputs, labels]\n",
    "        inputs, labels = data\n",
    "        inputs = inputs.to(device)\n",
    "        labels = labels.to(device)\n",
    "\n",
    "        # zero the parameter gradients\n",
    "        optimizer.zero_grad()\n",
    "\n",
    "        # forward + backward + optimize\n",
    "       \n",
    "        outputs = model(inputs)\n",
    "        #print(outputs)\n",
    "\n",
    "        loss = criterion(outputs, labels)\n",
    "        loss.backward()\n",
    "        optimizer.step()\n",
    "\n",
    "        # print statistics\n",
    "        running_loss += loss.item()\n",
    "        n_batches += 1\n",
    "\n",
    "\n",
    "    epoch_list.append(epoch+1)\n",
    "    loss_list.append(running_loss/n_batches)\n",
    "    \n",
    "    print(f'[{epoch + 1}, {i + 1:5d}] loss: {running_loss / n_batches:.7f}')\n",
    "    running_loss = 0.0\n",
    "\n",
    "    val_accuracy_list.append(calculate_accuracy(model, valloader, device))\n",
    "    val_loss_list.append(calculate_valloss(model, criterion, valloader, device))\n",
    "\n",
    "\n",
    "    if (epoch+1) % 5 == 0:\n",
    "        checkpoint_filename = f\"trials/{trial_name}/checkpoints/checkpoint_{epoch + 1}.path\"\n",
    "        os.makedirs(os.path.dirname(checkpoint_filename), exist_ok=True)\n",
    "        #os.makedirs(os.path.dirname(checkpoint_filename), exist_ok=True)\n",
    "        #save_checkpoint(model, optimizer, epoch+1, loss.item(), filename=f\"checkpoints2/checkpoint_{epoch + 1}.pth\")\n",
    "        save_checkpoint(model, optimizer, epoch+1, loss.item(), filename=checkpoint_filename)\n",
    "        \n",
    "\n",
    "    scheduler.step()\n",
    "\n",
    "\n",
    "print('Finished Training')"
   ]
  },
  {
   "cell_type": "code",
   "execution_count": null,
   "metadata": {},
   "outputs": [],
   "source": []
  },
  {
   "cell_type": "code",
   "execution_count": null,
   "metadata": {},
   "outputs": [],
   "source": [
    "import matplotlib.pyplot as plt\n",
    "\n",
    "dic = {'losses':loss_list, 'epoch':epoch_list}\n",
    "df = pd.DataFrame(data=dic)\n",
    "#df = df[150:]\n",
    "\n",
    "p = sns.lineplot(data=df, x=df.index, y='losses')\n",
    "p.set_xlabel(\"Epoch\")\n",
    "p.set_ylabel(\"Avg Cross Entropy Loss\")\n",
    "p.set_title(\"Training Loss\")\n",
    "plt.close()\n",
    "\n"
   ]
  },
  {
   "cell_type": "code",
   "execution_count": null,
   "metadata": {},
   "outputs": [
    {
     "data": {
      "text/plain": [
       "<function matplotlib.pyplot.close(fig: \"None | int | str | Figure | Literal['all']\" = None) -> 'None'>"
      ]
     },
     "execution_count": 12,
     "metadata": {},
     "output_type": "execute_result"
    },
    {
     "data": {
      "image/png": "[encoded data removed]",
      "text/plain": [
       "<Figure size 640x480 with 1 Axes>"
      ]
     },
     "metadata": {},
     "output_type": "display_data"
    }
   ],
   "source": [
    "dic2 = {'Validation Accuracy':val_accuracy_list, 'Epoch':epoch_list}\n",
    "df2 = pd.DataFrame(data=dic2)\n",
    "\n",
    "p2 = sns.lineplot(data=df2, x='Epoch', y='Validation Accuracy', color='red')\n",
    "p2.set_title('Validation Accuracy per Epoch')\n",
    "\n",
    "plot_title = 'val_acc_per_epoch'\n",
    "\n",
    "plot_filename = f\"trials/{trial_name}/plots/{plot_title}.png\"\n",
    "os.makedirs(os.path.dirname(plot_filename), exist_ok=True)\n",
    "\n",
    "p2.figure.savefig(plot_filename)\n",
    "plt.close\n"
   ]
  },
  {
   "cell_type": "code",
   "execution_count": null,
   "metadata": {},
   "outputs": [
    {
     "name": "stdout",
     "output_type": "stream",
     "text": [
      "[2.2323758602142334, 2.2070624828338623, 2.055586814880371, 2.0801358222961426, 2.484445571899414, 1.749854326248169, 1.6774739027023315, 1.892346739768982]\n"
     ]
    }
   ],
   "source": [
    "val_loss_list_tensor = [float(x) for x in val_loss_list]\n",
    "print(val_loss_list_tensor)\n",
    "\n",
    "dic3 = {'Validation Loss':val_loss_list_tensor, 'Epoch':epoch_list}\n",
    "df3 = pd.DataFrame(data=dic3)\n",
    "\n",
    "p3 = sns.lineplot(data=df3, x='Epoch', y='Validation Loss', color='red')\n",
    "p3.set_title('Validation Loss per Epoch')\n",
    "\n",
    "\n",
    "plot_title = 'val_loss_per_epoch'\n",
    "\n",
    "plot_filename = f\"trials/{trial_name}/plots/{plot_title}.png\"\n",
    "os.makedirs(os.path.dirname(plot_filename), exist_ok=True)\n",
    "\n",
    "p3.figure.savefig(plot_filename)\n",
    "plt.close()"
   ]
  },
  {
   "cell_type": "code",
   "execution_count": null,
   "metadata": {},
   "outputs": [
    {
     "data": {
      "text/plain": [
       "<function matplotlib.pyplot.close(fig: \"None | int | str | Figure | Literal['all']\" = None) -> 'None'>"
      ]
     },
     "execution_count": 14,
     "metadata": {},
     "output_type": "execute_result"
    },
    {
     "data": {
      "image/png": "[encoded data removed]",
      "text/plain": [
       "<Figure size 640x480 with 1 Axes>"
      ]
     },
     "metadata": {},
     "output_type": "display_data"
    }
   ],
   "source": [
    "\n",
    "val_loss_list_tensor = [float(x) for x in val_loss_list]\n",
    "\n",
    "dic3 = {'Loss':val_loss_list_tensor, 'Epoch':epoch_list}\n",
    "dic3_df = pd.DataFrame(data=dic3)\n",
    "dic3_df['Type'] = 'Val'\n",
    "\n",
    "dic = {'Loss':loss_list, 'epoch':epoch_list}\n",
    "dic_df = pd.DataFrame(data=dic)\n",
    "dic_df['Type'] = 'Train'\n",
    "\n",
    "combined_df = pd.concat([dic_df,dic3_df])\n",
    "\n",
    "p = sns.lineplot(data=combined_df, x='Epoch', y='Loss', hue='Type')\n",
    "p.set_title('Loss per Epoch')\n",
    "\n",
    "\n",
    "plot_title = 'loss_per_epoch'\n",
    "\n",
    "plot_filename = f\"trials/{trial_name}/plots/{plot_title}.png\"\n",
    "os.makedirs(os.path.dirname(plot_filename), exist_ok=True)\n",
    "\n",
    "p.figure.savefig(plot_filename)\n",
    "plt.close\n"
   ]
  },
  {
   "cell_type": "code",
   "execution_count": null,
   "metadata": {},
   "outputs": [],
   "source": [
    "test_single_image = False\n",
    "\n",
    "if (test_single_image):\n",
    "    data_iter = iter(testset)\n",
    "\n",
    "    for i in range(40):\n",
    "        (data, label) = next(data_iter)\n",
    "    im = data\n",
    "    data = data.unsqueeze(0)\n",
    "    soft = nn.Softmax(dim=1)\n",
    "    imshow(im)\n",
    "    print(label)\n",
    "\n",
    "    model_output = model(data)\n",
    "    prediction = soft(model_output)\n",
    "\n",
    "    _, ind = (torch.max(prediction, dim=1))\n",
    "    print(ind)\n",
    "    print(\"\\n\")\n",
    "\n",
    "#from torchviz import make_dot, make_dot_from_trace\n",
    "#make_dot(model_output.mean(), params=dict(model.named_parameters()))\n",
    "\n",
    "\n"
   ]
  },
  {
   "cell_type": "code",
   "execution_count": null,
   "metadata": {},
   "outputs": [
    {
     "name": "stdout",
     "output_type": "stream",
     "text": [
      "0.402\n"
     ]
    }
   ],
   "source": [
    "\n",
    "test_accuracy = calculate_accuracy(model, testloader, device)\n",
    "kpi_filename = f\"trials/{trial_name}/kpi.txt\"\n",
    "os.makedirs(os.path.dirname(kpi_filename), exist_ok=True)\n",
    "\n",
    "with open(kpi_filename, \"w\") as f:\n",
    "    f.write(f\"Test Accuracy: {test_accuracy}\")\n",
    "\n",
    "#print(test_accuracy)\n",
    "\n"
   ]
  },
  {
   "cell_type": "code",
   "execution_count": null,
   "metadata": {},
   "outputs": [],
   "source": []
  },
  {
   "cell_type": "markdown",
   "metadata": {},
   "source": [
    "### Code to save Model"
   ]
  },
  {
   "cell_type": "code",
   "execution_count": null,
   "metadata": {},
   "outputs": [],
   "source": [
    "#torch.save(model.state_dict(), \"model_weights_130_epochs\")"
   ]
  },
  {
   "cell_type": "code",
   "execution_count": null,
   "metadata": {},
   "outputs": [],
   "source": []
  }
 ],
 "metadata": {
  "kernelspec": {
   "display_name": "eds4ai",
   "language": "python",
   "name": "python3"
  },
  "language_info": {
   "codemirror_mode": {
    "name": "ipython",
    "version": 3
   },
   "file_extension": ".py",
   "mimetype": "text/x-python",
   "name": "python",
   "nbconvert_exporter": "python",
   "pygments_lexer": "ipython3",
   "version": "3.9.21"
  }
 },
 "nbformat": 4,
 "nbformat_minor": 4
}
