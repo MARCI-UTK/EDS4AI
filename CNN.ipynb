{
 "cells": [
  {
   "cell_type": "code",
   "execution_count": 184,
   "metadata": {},
   "outputs": [],
   "source": [
    "import torch\n",
    "import torchvision\n",
    "import torchvision.transforms as transforms\n",
    "from torch import nn\n",
    "import torch.nn.functional as F\n",
    "#import torch.optim as optim\n",
    "\n",
    "import pandas as pd\n",
    "import seaborn as sns\n"
   ]
  },
  {
   "cell_type": "code",
   "execution_count": 185,
   "metadata": {},
   "outputs": [
    {
     "name": "stdout",
     "output_type": "stream",
     "text": [
      "Files already downloaded and verified\n",
      "Files already downloaded and verified\n"
     ]
    }
   ],
   "source": [
    "transform = transforms.Compose(\n",
    "    [transforms.ToTensor(),\n",
    "     transforms.Normalize((0.5, 0.5, 0.5), (0.5, 0.5, 0.5))])\n",
    "\n",
    "batch_size = 128\n",
    "\n",
    "trainset = torchvision.datasets.CIFAR10(root='./data', train=True,\n",
    "                                        download=True, transform=transform)\n",
    "trainloader = torch.utils.data.DataLoader(trainset, batch_size=batch_size,\n",
    "                                          shuffle=True, num_workers=2)\n",
    "\n",
    "testset = torchvision.datasets.CIFAR10(root='./data', train=False,\n",
    "                                       download=True, transform=transform)\n",
    "testloader = torch.utils.data.DataLoader(testset, batch_size=batch_size,\n",
    "                                         shuffle=False, num_workers=2)\n",
    "\n",
    "classes = ('plane', 'car', 'bird', 'cat',\n",
    "           'deer', 'dog', 'frog', 'horse', 'ship', 'truck')\n",
    "\n"
   ]
  },
  {
   "cell_type": "code",
   "execution_count": 186,
   "metadata": {},
   "outputs": [],
   "source": [
    "import matplotlib.pyplot as plt\n",
    "import numpy as np\n",
    "\n",
    "# functions to show an image\n",
    "def imshow(img):\n",
    "    img = img / 2 + 0.5     # unnormalize\n",
    "    npimg = img.numpy()\n",
    "    plt.imshow(np.transpose(npimg, (1, 2, 0)))\n",
    "    plt.show()\n"
   ]
  },
  {
   "cell_type": "code",
   "execution_count": 187,
   "metadata": {},
   "outputs": [],
   "source": [
    "class Blur(nn.Module):\n",
    "    def __init__(self):\n",
    "        super(Blur, self).__init__()\n",
    "        self.layers = torch.nn.Sequential(\n",
    "            nn.MaxPool2d(4)\n",
    "        )\n",
    "\n",
    "    def forward(self,x):\n",
    "       x = self.layers(x)\n",
    "       #print(x.shape)\n",
    "       x = F.interpolate(x, size=(32, 32), mode='nearest')\n",
    "       return x\n",
    "\n",
    "\n",
    "def imshow(img):\n",
    "  img = img / 2 + 0.5   # unnormalize\n",
    "  npimg = img.numpy()   # convert from tensor\n",
    "  #plt.imshow(np.transpose(npimg, (1, 2, 0))) \n",
    "  #plt.show()\n",
    "\n",
    "im, label = trainset[0]\n",
    "\n",
    "effect = Blur()\n",
    "#imshow(im)\n",
    "im = torch.unsqueeze(im, 0)\n",
    "\n",
    "\n",
    "blurredim = effect(im)\n",
    "#print(blurredim.shape)\n",
    "#imshow(torch.squeeze(blurredim))\n"
   ]
  },
  {
   "cell_type": "code",
   "execution_count": 188,
   "metadata": {},
   "outputs": [
    {
     "name": "stdout",
     "output_type": "stream",
     "text": [
      "bruh\n"
     ]
    }
   ],
   "source": [
    "class PrintLayer(nn.Module):\n",
    "    def __init__(self):\n",
    "        super(PrintLayer, self).__init__()\n",
    "    \n",
    "    def forward(self, x):\n",
    "        # Do your print / debug stuff here\n",
    "        print(x.shape)\n",
    "        return x\n",
    "\n",
    "def init_weights(m):\n",
    "    if isinstance(m, nn.Linear):\n",
    "        torch.nn.init.xavier_uniform_(m.weight)\n",
    "        m.bias.data.fill_(0.00)\n",
    "\n",
    "class CNN(nn.Module):\n",
    "    def __init__(self):\n",
    "        super().__init__()\n",
    "        self.ConvLayers = torch.nn.Sequential(\n",
    "            nn.Conv2d(3, 96, 3, padding=1),\n",
    "            nn.BatchNorm2d(num_features=3),\n",
    "            nn.ReLU(),\n",
    "            \n",
    "            nn.Conv2d(96, 192, 3, stride=2, padding=1),\n",
    "            nn.BatchNorm2d(num_features=3),\n",
    "            nn.ReLU(),\n",
    "\n",
    "            nn.Conv2d(192, 192, 3, stride=2, padding=1),\n",
    "            nn.BatchNorm2d(num_features=3),\n",
    "            nn.ReLU(),\n",
    "\n",
    "            nn.Conv2d(192, 192, 3, padding=1),\n",
    "            nn.BatchNorm2d(num_features=3),\n",
    "            nn.ReLU(),\n",
    "\n",
    "            nn.Conv2d(192, 192, 3, stride=2, padding =1),\n",
    "            nn.BatchNorm2d(num_features=3),\n",
    "            nn.ReLU(),\n",
    "\n",
    "            nn.Conv2d(192, 192, 3, padding=1),\n",
    "            nn.BatchNorm2d(num_features=3),\n",
    "            nn.ReLU(),\n",
    "\n",
    "            nn.Conv2d(192, 192, 1),\n",
    "            nn.ReLU(),\n",
    "            nn.Conv2d(192, 10, 1),\n",
    "            nn.AvgPool2d(2),\n",
    "    \n",
    "            #PrintLayer(),\n",
    "            #Using Cross entropy loss so don't\n",
    "            #need to apply softmax to output of last layer\n",
    "        )\n",
    "\n",
    "        #self.fc1 = nn.Linear(160, 80)\n",
    "        self.fc2 = nn.Linear(40, 10)\n",
    "\n",
    "    \n",
    "\n",
    "    def forward(self, x):\n",
    "        x = self.ConvLayers(x)\n",
    "        x = torch.flatten(x, start_dim=1)\n",
    "        #x = self.fc1(x)\n",
    "        x = self.fc2(x)\n",
    "        return x\n",
    "    \n",
    "\n",
    "model = CNN()\n",
    "model.apply(init_weights)\n",
    "print(\"bruh\")"
   ]
  },
  {
   "cell_type": "code",
   "execution_count": 189,
   "metadata": {},
   "outputs": [
    {
     "name": "stdout",
     "output_type": "stream",
     "text": [
      "==========================================================================================\n",
      "Layer (type:depth-idx)                   Output Shape              Param #\n",
      "==========================================================================================\n",
      "├─Sequential: 1-1                        [-1, 10, 2, 2]            --\n",
      "|    └─Conv2d: 2-1                       [-1, 96, 32, 32]          2,688\n",
      "|    └─ReLU: 2-2                         [-1, 96, 32, 32]          --\n",
      "|    └─Conv2d: 2-3                       [-1, 192, 16, 16]         166,080\n",
      "|    └─ReLU: 2-4                         [-1, 192, 16, 16]         --\n",
      "|    └─Conv2d: 2-5                       [-1, 192, 8, 8]           331,968\n",
      "|    └─ReLU: 2-6                         [-1, 192, 8, 8]           --\n",
      "|    └─Conv2d: 2-7                       [-1, 192, 8, 8]           331,968\n",
      "|    └─ReLU: 2-8                         [-1, 192, 8, 8]           --\n",
      "|    └─Conv2d: 2-9                       [-1, 192, 4, 4]           331,968\n",
      "|    └─ReLU: 2-10                        [-1, 192, 4, 4]           --\n",
      "|    └─Conv2d: 2-11                      [-1, 192, 4, 4]           331,968\n",
      "|    └─ReLU: 2-12                        [-1, 192, 4, 4]           --\n",
      "|    └─Conv2d: 2-13                      [-1, 192, 4, 4]           37,056\n",
      "|    └─ReLU: 2-14                        [-1, 192, 4, 4]           --\n",
      "|    └─Conv2d: 2-15                      [-1, 10, 4, 4]            1,930\n",
      "|    └─AvgPool2d: 2-16                   [-1, 10, 2, 2]            --\n",
      "├─Linear: 1-2                            [-1, 10]                  410\n",
      "==========================================================================================\n",
      "Total params: 1,536,036\n",
      "Trainable params: 1,536,036\n",
      "Non-trainable params: 0\n",
      "Total mult-adds (M): 100.36\n",
      "==========================================================================================\n",
      "Input size (MB): 0.01\n",
      "Forward/backward pass size (MB): 1.38\n",
      "Params size (MB): 5.86\n",
      "Estimated Total Size (MB): 7.26\n",
      "==========================================================================================\n"
     ]
    }
   ],
   "source": [
    "print_output_shape = False\n",
    "\n",
    "\n",
    "data_iter = iter(trainset)\n",
    "\n",
    "for i in range(3):\n",
    "    (data, label) = next(data_iter)\n",
    "im = data\n",
    "data = data.unsqueeze(0)\n",
    "input_shape = data.shape\n",
    "\n",
    "if (print_output_shape):\n",
    "    print(data.shape)\n",
    "    print('\\n')\n",
    "\n",
    "\n",
    "from torchsummary import summary\n",
    "_ = summary(model, (3, 32, 32))\n",
    "\n",
    "#print(model(data).shape)"
   ]
  },
  {
   "cell_type": "code",
   "execution_count": 190,
   "metadata": {},
   "outputs": [],
   "source": [
    "epoch_list = []\n",
    "minibatch_number_list = []\n",
    "loss_list = []"
   ]
  },
  {
   "cell_type": "code",
   "execution_count": 191,
   "metadata": {},
   "outputs": [],
   "source": [
    "from torch.optim.lr_scheduler import StepLR\n",
    "\n",
    "criterion = nn.CrossEntropyLoss()\n",
    "optimizer = torch.optim.SGD(model.parameters(), lr=0.05, weight_decay=0.001)\n",
    "scheduler = StepLR(optimizer, step_size=1, gamma=0.97)\n"
   ]
  },
  {
   "cell_type": "code",
   "execution_count": 192,
   "metadata": {},
   "outputs": [
    {
     "name": "stdout",
     "output_type": "stream",
     "text": [
      "[1,    40] loss: 2.303\n",
      "[1,    80] loss: 2.303\n",
      "[1,   120] loss: 2.303\n",
      "[1,   160] loss: 2.303\n",
      "[1,   200] loss: 2.303\n",
      "[1,   240] loss: 2.303\n",
      "[1,   280] loss: 2.303\n",
      "[1,   320] loss: 2.303\n",
      "[1,   360] loss: 2.303\n",
      "[2,    40] loss: 2.303\n",
      "[2,    80] loss: 2.302\n",
      "[2,   120] loss: 2.303\n",
      "[2,   160] loss: 2.303\n",
      "[2,   200] loss: 2.303\n",
      "[2,   240] loss: 2.303\n",
      "[2,   280] loss: 2.303\n",
      "[2,   320] loss: 2.302\n",
      "[2,   360] loss: 2.303\n",
      "[3,    40] loss: 2.302\n",
      "[3,    80] loss: 2.303\n",
      "[3,   120] loss: 2.302\n",
      "[3,   160] loss: 2.303\n",
      "[3,   200] loss: 2.302\n",
      "[3,   240] loss: 2.302\n",
      "[3,   280] loss: 2.302\n",
      "[3,   320] loss: 2.302\n",
      "[3,   360] loss: 2.302\n",
      "[4,    40] loss: 2.302\n",
      "[4,    80] loss: 2.301\n",
      "[4,   120] loss: 2.301\n",
      "[4,   160] loss: 2.301\n",
      "[4,   200] loss: 2.300\n",
      "[4,   240] loss: 2.300\n",
      "[4,   280] loss: 2.299\n",
      "[4,   320] loss: 2.297\n",
      "[4,   360] loss: 2.295\n",
      "[5,    40] loss: 2.281\n",
      "[5,    80] loss: 2.255\n",
      "[5,   120] loss: 2.191\n",
      "[5,   160] loss: 2.145\n",
      "[5,   200] loss: 2.103\n",
      "[5,   240] loss: 2.084\n",
      "[5,   280] loss: 2.068\n",
      "[5,   320] loss: 2.037\n",
      "[5,   360] loss: 2.034\n",
      "[6,    40] loss: 1.998\n",
      "[6,    80] loss: 1.994\n",
      "[6,   120] loss: 1.964\n",
      "[6,   160] loss: 1.964\n",
      "[6,   200] loss: 1.935\n",
      "[6,   240] loss: 1.934\n",
      "[6,   280] loss: 1.920\n",
      "[6,   320] loss: 1.896\n",
      "[6,   360] loss: 1.902\n",
      "[7,    40] loss: 1.884\n"
     ]
    },
    {
     "ename": "KeyboardInterrupt",
     "evalue": "",
     "output_type": "error",
     "traceback": [
      "\u001b[0;31m---------------------------------------------------------------------------\u001b[0m",
      "\u001b[0;31mKeyboardInterrupt\u001b[0m                         Traceback (most recent call last)",
      "Cell \u001b[0;32mIn[192], line 15\u001b[0m\n\u001b[1;32m     11\u001b[0m optimizer\u001b[38;5;241m.\u001b[39mzero_grad()\n\u001b[1;32m     13\u001b[0m \u001b[38;5;66;03m# forward + backward + optimize\u001b[39;00m\n\u001b[0;32m---> 15\u001b[0m outputs \u001b[38;5;241m=\u001b[39m model(inputs)\n\u001b[1;32m     16\u001b[0m \u001b[38;5;66;03m#print(outputs)\u001b[39;00m\n\u001b[1;32m     18\u001b[0m loss \u001b[38;5;241m=\u001b[39m criterion(outputs, labels)\n",
      "File \u001b[0;32m~/miniconda3/envs/EDS4AI/lib/python3.12/site-packages/torch/nn/modules/module.py:1532\u001b[0m, in \u001b[0;36mModule._wrapped_call_impl\u001b[0;34m(self, *args, **kwargs)\u001b[0m\n\u001b[1;32m   1530\u001b[0m     \u001b[38;5;28;01mreturn\u001b[39;00m \u001b[38;5;28mself\u001b[39m\u001b[38;5;241m.\u001b[39m_compiled_call_impl(\u001b[38;5;241m*\u001b[39margs, \u001b[38;5;241m*\u001b[39m\u001b[38;5;241m*\u001b[39mkwargs)  \u001b[38;5;66;03m# type: ignore[misc]\u001b[39;00m\n\u001b[1;32m   1531\u001b[0m \u001b[38;5;28;01melse\u001b[39;00m:\n\u001b[0;32m-> 1532\u001b[0m     \u001b[38;5;28;01mreturn\u001b[39;00m \u001b[38;5;28mself\u001b[39m\u001b[38;5;241m.\u001b[39m_call_impl(\u001b[38;5;241m*\u001b[39margs, \u001b[38;5;241m*\u001b[39m\u001b[38;5;241m*\u001b[39mkwargs)\n",
      "File \u001b[0;32m~/miniconda3/envs/EDS4AI/lib/python3.12/site-packages/torch/nn/modules/module.py:1541\u001b[0m, in \u001b[0;36mModule._call_impl\u001b[0;34m(self, *args, **kwargs)\u001b[0m\n\u001b[1;32m   1536\u001b[0m \u001b[38;5;66;03m# If we don't have any hooks, we want to skip the rest of the logic in\u001b[39;00m\n\u001b[1;32m   1537\u001b[0m \u001b[38;5;66;03m# this function, and just call forward.\u001b[39;00m\n\u001b[1;32m   1538\u001b[0m \u001b[38;5;28;01mif\u001b[39;00m \u001b[38;5;129;01mnot\u001b[39;00m (\u001b[38;5;28mself\u001b[39m\u001b[38;5;241m.\u001b[39m_backward_hooks \u001b[38;5;129;01mor\u001b[39;00m \u001b[38;5;28mself\u001b[39m\u001b[38;5;241m.\u001b[39m_backward_pre_hooks \u001b[38;5;129;01mor\u001b[39;00m \u001b[38;5;28mself\u001b[39m\u001b[38;5;241m.\u001b[39m_forward_hooks \u001b[38;5;129;01mor\u001b[39;00m \u001b[38;5;28mself\u001b[39m\u001b[38;5;241m.\u001b[39m_forward_pre_hooks\n\u001b[1;32m   1539\u001b[0m         \u001b[38;5;129;01mor\u001b[39;00m _global_backward_pre_hooks \u001b[38;5;129;01mor\u001b[39;00m _global_backward_hooks\n\u001b[1;32m   1540\u001b[0m         \u001b[38;5;129;01mor\u001b[39;00m _global_forward_hooks \u001b[38;5;129;01mor\u001b[39;00m _global_forward_pre_hooks):\n\u001b[0;32m-> 1541\u001b[0m     \u001b[38;5;28;01mreturn\u001b[39;00m forward_call(\u001b[38;5;241m*\u001b[39margs, \u001b[38;5;241m*\u001b[39m\u001b[38;5;241m*\u001b[39mkwargs)\n\u001b[1;32m   1543\u001b[0m \u001b[38;5;28;01mtry\u001b[39;00m:\n\u001b[1;32m   1544\u001b[0m     result \u001b[38;5;241m=\u001b[39m \u001b[38;5;28;01mNone\u001b[39;00m\n",
      "Cell \u001b[0;32mIn[188], line 47\u001b[0m, in \u001b[0;36mCNN.forward\u001b[0;34m(self, x)\u001b[0m\n\u001b[1;32m     46\u001b[0m \u001b[38;5;28;01mdef\u001b[39;00m \u001b[38;5;21mforward\u001b[39m(\u001b[38;5;28mself\u001b[39m, x):\n\u001b[0;32m---> 47\u001b[0m     x \u001b[38;5;241m=\u001b[39m \u001b[38;5;28mself\u001b[39m\u001b[38;5;241m.\u001b[39mConvLayers(x)\n\u001b[1;32m     48\u001b[0m     x \u001b[38;5;241m=\u001b[39m torch\u001b[38;5;241m.\u001b[39mflatten(x, start_dim\u001b[38;5;241m=\u001b[39m\u001b[38;5;241m1\u001b[39m)\n\u001b[1;32m     49\u001b[0m     \u001b[38;5;66;03m#x = self.fc1(x)\u001b[39;00m\n",
      "File \u001b[0;32m~/miniconda3/envs/EDS4AI/lib/python3.12/site-packages/torch/nn/modules/module.py:1532\u001b[0m, in \u001b[0;36mModule._wrapped_call_impl\u001b[0;34m(self, *args, **kwargs)\u001b[0m\n\u001b[1;32m   1530\u001b[0m     \u001b[38;5;28;01mreturn\u001b[39;00m \u001b[38;5;28mself\u001b[39m\u001b[38;5;241m.\u001b[39m_compiled_call_impl(\u001b[38;5;241m*\u001b[39margs, \u001b[38;5;241m*\u001b[39m\u001b[38;5;241m*\u001b[39mkwargs)  \u001b[38;5;66;03m# type: ignore[misc]\u001b[39;00m\n\u001b[1;32m   1531\u001b[0m \u001b[38;5;28;01melse\u001b[39;00m:\n\u001b[0;32m-> 1532\u001b[0m     \u001b[38;5;28;01mreturn\u001b[39;00m \u001b[38;5;28mself\u001b[39m\u001b[38;5;241m.\u001b[39m_call_impl(\u001b[38;5;241m*\u001b[39margs, \u001b[38;5;241m*\u001b[39m\u001b[38;5;241m*\u001b[39mkwargs)\n",
      "File \u001b[0;32m~/miniconda3/envs/EDS4AI/lib/python3.12/site-packages/torch/nn/modules/module.py:1541\u001b[0m, in \u001b[0;36mModule._call_impl\u001b[0;34m(self, *args, **kwargs)\u001b[0m\n\u001b[1;32m   1536\u001b[0m \u001b[38;5;66;03m# If we don't have any hooks, we want to skip the rest of the logic in\u001b[39;00m\n\u001b[1;32m   1537\u001b[0m \u001b[38;5;66;03m# this function, and just call forward.\u001b[39;00m\n\u001b[1;32m   1538\u001b[0m \u001b[38;5;28;01mif\u001b[39;00m \u001b[38;5;129;01mnot\u001b[39;00m (\u001b[38;5;28mself\u001b[39m\u001b[38;5;241m.\u001b[39m_backward_hooks \u001b[38;5;129;01mor\u001b[39;00m \u001b[38;5;28mself\u001b[39m\u001b[38;5;241m.\u001b[39m_backward_pre_hooks \u001b[38;5;129;01mor\u001b[39;00m \u001b[38;5;28mself\u001b[39m\u001b[38;5;241m.\u001b[39m_forward_hooks \u001b[38;5;129;01mor\u001b[39;00m \u001b[38;5;28mself\u001b[39m\u001b[38;5;241m.\u001b[39m_forward_pre_hooks\n\u001b[1;32m   1539\u001b[0m         \u001b[38;5;129;01mor\u001b[39;00m _global_backward_pre_hooks \u001b[38;5;129;01mor\u001b[39;00m _global_backward_hooks\n\u001b[1;32m   1540\u001b[0m         \u001b[38;5;129;01mor\u001b[39;00m _global_forward_hooks \u001b[38;5;129;01mor\u001b[39;00m _global_forward_pre_hooks):\n\u001b[0;32m-> 1541\u001b[0m     \u001b[38;5;28;01mreturn\u001b[39;00m forward_call(\u001b[38;5;241m*\u001b[39margs, \u001b[38;5;241m*\u001b[39m\u001b[38;5;241m*\u001b[39mkwargs)\n\u001b[1;32m   1543\u001b[0m \u001b[38;5;28;01mtry\u001b[39;00m:\n\u001b[1;32m   1544\u001b[0m     result \u001b[38;5;241m=\u001b[39m \u001b[38;5;28;01mNone\u001b[39;00m\n",
      "File \u001b[0;32m~/miniconda3/envs/EDS4AI/lib/python3.12/site-packages/torch/nn/modules/container.py:217\u001b[0m, in \u001b[0;36mSequential.forward\u001b[0;34m(self, input)\u001b[0m\n\u001b[1;32m    215\u001b[0m \u001b[38;5;28;01mdef\u001b[39;00m \u001b[38;5;21mforward\u001b[39m(\u001b[38;5;28mself\u001b[39m, \u001b[38;5;28minput\u001b[39m):\n\u001b[1;32m    216\u001b[0m     \u001b[38;5;28;01mfor\u001b[39;00m module \u001b[38;5;129;01min\u001b[39;00m \u001b[38;5;28mself\u001b[39m:\n\u001b[0;32m--> 217\u001b[0m         \u001b[38;5;28minput\u001b[39m \u001b[38;5;241m=\u001b[39m module(\u001b[38;5;28minput\u001b[39m)\n\u001b[1;32m    218\u001b[0m     \u001b[38;5;28;01mreturn\u001b[39;00m \u001b[38;5;28minput\u001b[39m\n",
      "File \u001b[0;32m~/miniconda3/envs/EDS4AI/lib/python3.12/site-packages/torch/nn/modules/module.py:1532\u001b[0m, in \u001b[0;36mModule._wrapped_call_impl\u001b[0;34m(self, *args, **kwargs)\u001b[0m\n\u001b[1;32m   1530\u001b[0m     \u001b[38;5;28;01mreturn\u001b[39;00m \u001b[38;5;28mself\u001b[39m\u001b[38;5;241m.\u001b[39m_compiled_call_impl(\u001b[38;5;241m*\u001b[39margs, \u001b[38;5;241m*\u001b[39m\u001b[38;5;241m*\u001b[39mkwargs)  \u001b[38;5;66;03m# type: ignore[misc]\u001b[39;00m\n\u001b[1;32m   1531\u001b[0m \u001b[38;5;28;01melse\u001b[39;00m:\n\u001b[0;32m-> 1532\u001b[0m     \u001b[38;5;28;01mreturn\u001b[39;00m \u001b[38;5;28mself\u001b[39m\u001b[38;5;241m.\u001b[39m_call_impl(\u001b[38;5;241m*\u001b[39margs, \u001b[38;5;241m*\u001b[39m\u001b[38;5;241m*\u001b[39mkwargs)\n",
      "File \u001b[0;32m~/miniconda3/envs/EDS4AI/lib/python3.12/site-packages/torch/nn/modules/module.py:1541\u001b[0m, in \u001b[0;36mModule._call_impl\u001b[0;34m(self, *args, **kwargs)\u001b[0m\n\u001b[1;32m   1536\u001b[0m \u001b[38;5;66;03m# If we don't have any hooks, we want to skip the rest of the logic in\u001b[39;00m\n\u001b[1;32m   1537\u001b[0m \u001b[38;5;66;03m# this function, and just call forward.\u001b[39;00m\n\u001b[1;32m   1538\u001b[0m \u001b[38;5;28;01mif\u001b[39;00m \u001b[38;5;129;01mnot\u001b[39;00m (\u001b[38;5;28mself\u001b[39m\u001b[38;5;241m.\u001b[39m_backward_hooks \u001b[38;5;129;01mor\u001b[39;00m \u001b[38;5;28mself\u001b[39m\u001b[38;5;241m.\u001b[39m_backward_pre_hooks \u001b[38;5;129;01mor\u001b[39;00m \u001b[38;5;28mself\u001b[39m\u001b[38;5;241m.\u001b[39m_forward_hooks \u001b[38;5;129;01mor\u001b[39;00m \u001b[38;5;28mself\u001b[39m\u001b[38;5;241m.\u001b[39m_forward_pre_hooks\n\u001b[1;32m   1539\u001b[0m         \u001b[38;5;129;01mor\u001b[39;00m _global_backward_pre_hooks \u001b[38;5;129;01mor\u001b[39;00m _global_backward_hooks\n\u001b[1;32m   1540\u001b[0m         \u001b[38;5;129;01mor\u001b[39;00m _global_forward_hooks \u001b[38;5;129;01mor\u001b[39;00m _global_forward_pre_hooks):\n\u001b[0;32m-> 1541\u001b[0m     \u001b[38;5;28;01mreturn\u001b[39;00m forward_call(\u001b[38;5;241m*\u001b[39margs, \u001b[38;5;241m*\u001b[39m\u001b[38;5;241m*\u001b[39mkwargs)\n\u001b[1;32m   1543\u001b[0m \u001b[38;5;28;01mtry\u001b[39;00m:\n\u001b[1;32m   1544\u001b[0m     result \u001b[38;5;241m=\u001b[39m \u001b[38;5;28;01mNone\u001b[39;00m\n",
      "File \u001b[0;32m~/miniconda3/envs/EDS4AI/lib/python3.12/site-packages/torch/nn/modules/conv.py:460\u001b[0m, in \u001b[0;36mConv2d.forward\u001b[0;34m(self, input)\u001b[0m\n\u001b[1;32m    459\u001b[0m \u001b[38;5;28;01mdef\u001b[39;00m \u001b[38;5;21mforward\u001b[39m(\u001b[38;5;28mself\u001b[39m, \u001b[38;5;28minput\u001b[39m: Tensor) \u001b[38;5;241m-\u001b[39m\u001b[38;5;241m>\u001b[39m Tensor:\n\u001b[0;32m--> 460\u001b[0m     \u001b[38;5;28;01mreturn\u001b[39;00m \u001b[38;5;28mself\u001b[39m\u001b[38;5;241m.\u001b[39m_conv_forward(\u001b[38;5;28minput\u001b[39m, \u001b[38;5;28mself\u001b[39m\u001b[38;5;241m.\u001b[39mweight, \u001b[38;5;28mself\u001b[39m\u001b[38;5;241m.\u001b[39mbias)\n",
      "File \u001b[0;32m~/miniconda3/envs/EDS4AI/lib/python3.12/site-packages/torch/nn/modules/conv.py:456\u001b[0m, in \u001b[0;36mConv2d._conv_forward\u001b[0;34m(self, input, weight, bias)\u001b[0m\n\u001b[1;32m    452\u001b[0m \u001b[38;5;28;01mif\u001b[39;00m \u001b[38;5;28mself\u001b[39m\u001b[38;5;241m.\u001b[39mpadding_mode \u001b[38;5;241m!=\u001b[39m \u001b[38;5;124m'\u001b[39m\u001b[38;5;124mzeros\u001b[39m\u001b[38;5;124m'\u001b[39m:\n\u001b[1;32m    453\u001b[0m     \u001b[38;5;28;01mreturn\u001b[39;00m F\u001b[38;5;241m.\u001b[39mconv2d(F\u001b[38;5;241m.\u001b[39mpad(\u001b[38;5;28minput\u001b[39m, \u001b[38;5;28mself\u001b[39m\u001b[38;5;241m.\u001b[39m_reversed_padding_repeated_twice, mode\u001b[38;5;241m=\u001b[39m\u001b[38;5;28mself\u001b[39m\u001b[38;5;241m.\u001b[39mpadding_mode),\n\u001b[1;32m    454\u001b[0m                     weight, bias, \u001b[38;5;28mself\u001b[39m\u001b[38;5;241m.\u001b[39mstride,\n\u001b[1;32m    455\u001b[0m                     _pair(\u001b[38;5;241m0\u001b[39m), \u001b[38;5;28mself\u001b[39m\u001b[38;5;241m.\u001b[39mdilation, \u001b[38;5;28mself\u001b[39m\u001b[38;5;241m.\u001b[39mgroups)\n\u001b[0;32m--> 456\u001b[0m \u001b[38;5;28;01mreturn\u001b[39;00m F\u001b[38;5;241m.\u001b[39mconv2d(\u001b[38;5;28minput\u001b[39m, weight, bias, \u001b[38;5;28mself\u001b[39m\u001b[38;5;241m.\u001b[39mstride,\n\u001b[1;32m    457\u001b[0m                 \u001b[38;5;28mself\u001b[39m\u001b[38;5;241m.\u001b[39mpadding, \u001b[38;5;28mself\u001b[39m\u001b[38;5;241m.\u001b[39mdilation, \u001b[38;5;28mself\u001b[39m\u001b[38;5;241m.\u001b[39mgroups)\n",
      "\u001b[0;31mKeyboardInterrupt\u001b[0m: "
     ]
    }
   ],
   "source": [
    "for epoch in range(40):  # loop over the dataset multiple times\n",
    "\n",
    "    running_loss = 0.0\n",
    "\n",
    "\n",
    "    for i, data in enumerate(trainloader, 0):\n",
    "        # get the inputs; data is a list of [inputs, labels]\n",
    "        inputs, labels = data\n",
    "\n",
    "        # zero the parameter gradients\n",
    "        optimizer.zero_grad()\n",
    "\n",
    "        # forward + backward + optimize\n",
    "       \n",
    "        outputs = model(inputs)\n",
    "        #print(outputs)\n",
    "\n",
    "        loss = criterion(outputs, labels)\n",
    "        loss.backward()\n",
    "        optimizer.step()\n",
    "\n",
    "        # print statistics\n",
    "        running_loss += loss.item()\n",
    "        if i % 40 == 39:    # print every 60 mini-batches\n",
    "            epoch_list.append(epoch+1)\n",
    "            minibatch_number_list.append(i+1)\n",
    "            loss_list.append(running_loss/40)\n",
    "\n",
    "            \n",
    "            print(f'[{epoch + 1}, {i + 1:5d}] loss: {running_loss / 40:.3f}')\n",
    "            running_loss = 0.0\n",
    "            #print(scheduler.get_last_lr())\n",
    "\n",
    "\n",
    "    scheduler.step()\n",
    "\n",
    "print('Finished Training')"
   ]
  },
  {
   "cell_type": "code",
   "execution_count": null,
   "metadata": {},
   "outputs": [
    {
     "data": {
      "text/plain": [
       "Text(0, 0.5, 'Avg Cross Entropy Loss|')"
      ]
     },
     "execution_count": 51,
     "metadata": {},
     "output_type": "execute_result"
    },
    {
     "data": {
      "image/png": "[encoded data removed]",
      "text/plain": [
       "<Figure size 640x480 with 1 Axes>"
      ]
     },
     "metadata": {},
     "output_type": "display_data"
    }
   ],
   "source": [
    "dic = {'losses':loss_list, 'epoch':epoch_list, \"batch\":minibatch_number_list}\n",
    "df = pd.DataFrame(data=dic)\n",
    "\n",
    "p = sns.lineplot(data=df, x=df.index, y='losses')\n",
    "p.set_xlabel(\"Number of Minibatches (*2000)\")\n",
    "p.set_ylabel(\"Avg Cross Entropy Loss|\")"
   ]
  },
  {
   "cell_type": "code",
   "execution_count": null,
   "metadata": {},
   "outputs": [],
   "source": [
    "test_single_image = False\n",
    "\n",
    "if (test_single_image == True):\n",
    "    data_iter = iter(testset)\n",
    "\n",
    "    for i in range(40):\n",
    "        (data, label) = next(data_iter)\n",
    "    im = data\n",
    "    data = data.unsqueeze(0)\n",
    "    soft = nn.Softmax(dim=1)\n",
    "    imshow(im)\n",
    "    print(label)\n",
    "\n",
    "    model_output = model(data)\n",
    "    prediction = soft(model_output)\n",
    "\n",
    "    _, ind = (torch.max(prediction, dim=1))\n",
    "    print(ind)\n",
    "    print(\"\\n\")\n",
    "\n",
    "\n",
    "\n",
    "#from torchviz import make_dot, make_dot_from_trace\n",
    "#make_dot(model_output.mean(), params=dict(model.named_parameters()))\n",
    "\n",
    "\n"
   ]
  },
  {
   "cell_type": "code",
   "execution_count": null,
   "metadata": {},
   "outputs": [
    {
     "name": "stdout",
     "output_type": "stream",
     "text": [
      "7745\n",
      "#Samples: 10000     #Correct Predctions: 7745      Accuracy:0.7745\n"
     ]
    }
   ],
   "source": [
    "\n",
    "running_samples_total = 0\n",
    "correct_predictions_total = 0\n",
    "\n",
    "for indx, data in enumerate(testloader):\n",
    "    inputs, labels = data\n",
    "    prediction = model(inputs)\n",
    "    _, tensor_index = torch.max(prediction, dim=1)\n",
    "\n",
    "    \n",
    "    correct_predictions_total += (len(labels[labels==tensor_index]))\n",
    "    running_samples_total += batch_size\n",
    "    \n",
    "    #if (indx >= 2):\n",
    "    #    break\n",
    "\n",
    "print (correct_predictions_total)\n",
    "print(f\"#Samples: {running_samples_total}     #Correct Predctions: {correct_predictions_total}      Accuracy:{correct_predictions_total/running_samples_total}\")"
   ]
  },
  {
   "cell_type": "code",
   "execution_count": null,
   "metadata": {},
   "outputs": [],
   "source": []
  },
  {
   "cell_type": "markdown",
   "metadata": {},
   "source": [
    "### Code to save Model"
   ]
  },
  {
   "cell_type": "code",
   "execution_count": null,
   "metadata": {},
   "outputs": [],
   "source": [
    "#torch.save(model.state_dict(), \"model_weights_v2\")"
   ]
  },
  {
   "cell_type": "code",
   "execution_count": null,
   "metadata": {},
   "outputs": [
    {
     "name": "stdout",
     "output_type": "stream",
     "text": [
      "50000\n",
      "10000\n"
     ]
    }
   ],
   "source": [
    "print(len(trainset))\n",
    "print(len(testset))"
   ]
  },
  {
   "cell_type": "code",
   "execution_count": null,
   "metadata": {},
   "outputs": [],
   "source": []
  }
 ],
 "metadata": {
  "kernelspec": {
   "display_name": "EDS4AI",
   "language": "python",
   "name": "python3"
  },
  "language_info": {
   "codemirror_mode": {
    "name": "ipython",
    "version": 3
   },
   "file_extension": ".py",
   "mimetype": "text/x-python",
   "name": "python",
   "nbconvert_exporter": "python",
   "pygments_lexer": "ipython3",
   "version": "3.12.2"
  }
 },
 "nbformat": 4,
 "nbformat_minor": 2
}
