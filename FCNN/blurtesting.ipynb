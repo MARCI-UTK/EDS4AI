{
 "cells": [
  {
   "cell_type": "code",
   "execution_count": null,
   "id": "5502e66e",
   "metadata": {},
   "outputs": [],
   "source": []
  },
  {
   "cell_type": "code",
   "execution_count": null,
   "id": "977b9c5e",
   "metadata": {},
   "outputs": [],
   "source": [
    "\n",
    "import Experiment\n",
    "\n",
    "exp1 = {\n",
    "    'experiment_module' : 'Experiment',\n",
    "    'experiment_name' : 'Experiment',\n",
    "\n",
    "    'device' : 'cuda:2',\n",
    "\n",
    "    'trainloader_params': { 'batch_size' : 128, 'shuffle' : True},\n",
    "    'testloader_params': { 'batch_size' : 128, 'shuffle' : False},\n",
    "\n",
    "    'nn_module' : \"FCNN\",\n",
    "    'nn_name' : 'FCN_CIFAR10',\n",
    "    'nn_params' : {'num_classes' : 10},\n",
    "\n",
    "    'optimizer_name' : 'SGD',\n",
    "    'optimizer_params' : {'lr' : 0.05, 'weight_decay':0.001},\n",
    "\n",
    "    #torch.optim.lr_scheduler.StepLR\n",
    "    'scheduler_name' : 'StepLR',\n",
    "    'scheduler_params' : {'step_size':1, 'gamma':0.97},\n",
    "\n",
    "    'criterion_name' : 'CrossEntropyLoss',\n",
    "\n",
    "    'num_epochs' : 20,\n",
    "\n",
    "    'deficit_module' : 'BlurModule',\n",
    "    'deficit_name' : 'BlurDeficit',\n",
    "    'deficit_params' : {'start_epoch':0, 'end_epoch': 0, 'root_dir':'../data', 'dataset':'CIFAR10'},\n",
    "\n",
    "}\n"
   ]
  },
  {
   "cell_type": "code",
   "execution_count": 2,
   "id": "1d05fc69",
   "metadata": {},
   "outputs": [],
   "source": [
    "\n",
    "# code was taken from ai generated google results\n",
    "# this was the search term: \n",
    "# \"python how to create a class instance from a class name passed as a string\"\n",
    "def get_class(module_name, class_name):\n",
    "    try :\n",
    "        module = __import__(module_name, fromlist=[class_name])\n",
    "        cls = getattr(module, class_name)\n",
    "        return cls\n",
    "    except (ImportError, AttributeError) as e:\n",
    "        print(f\"Error: Could not get {class_name} from {module_name}. {e}\")\n",
    "        return None \n",
    "\n"
   ]
  },
  {
   "cell_type": "code",
   "execution_count": 3,
   "id": "a3e067c7",
   "metadata": {},
   "outputs": [
    {
     "name": "stdout",
     "output_type": "stream",
     "text": [
      "Epoch [1/3]:  LR: 0.04850000  Train Loss: 1.4929 | Train Acc: 46.24%  Val Loss: 1.4191 | Val Acc: 49.07%\n",
      "Epoch [2/3]:  LR: 0.04704500  Train Loss: 0.9125 | Train Acc: 67.64%  Val Loss: 0.9985 | Val Acc: 66.13%\n",
      "Epoch [3/3]:  LR: 0.04563365  Train Loss: 0.5992 | Train Acc: 79.16%  Val Loss: 0.7992 | Val Acc: 72.77%\n"
     ]
    }
   ],
   "source": [
    "\n",
    "#blur_length = [0, 20, 40, 60, 80, 100, 120, 140]\n",
    "blur_length = [1]\n",
    "\n",
    "if __name__ == '__main__' :\n",
    "\n",
    "    for deficit_duration in blur_length:\n",
    "        exp1['deficit_params']['end_epoch'] = deficit_duration\n",
    "        exp1['num_epochs'] = deficit_duration + 2\n",
    "        exp1['output_dir'] = 'TmpTesting'\n",
    "\n",
    "        from Trial import get_datasets\n",
    "        \n",
    "        trainset, testset = get_datasets()\n",
    "\n",
    "        experiment = Experiment.Experiment(exp1)\n",
    "\n",
    "        nn_class = get_class(exp1['nn_module'], exp1['nn_name'])\n",
    "        nn_params = exp1['nn_params']\n",
    "\n",
    "        opt = get_class('torch.optim', exp1['optimizer_name'])\n",
    "        opt_params = exp1['optimizer_params']\n",
    "\n",
    "        scheuduler = get_class('torch.optim.lr_scheduler', exp1['scheduler_name'])\n",
    "        scheduler_params = exp1['scheduler_params']\n",
    "\n",
    "        criterion_class = get_class('torch.nn', exp1['criterion_name'])\n",
    "\n",
    "        model_wrapper = Experiment.Model(nn_class=nn_class, nn_params=nn_params, optimizer_class=opt, optimizer_params=opt_params,\n",
    "                                        criterion_class=criterion_class, trainset=trainset, testset=testset, scheduler_class=scheuduler,\n",
    "                                        scheduler_params=scheduler_params)\n",
    "\n",
    "\n",
    "        deficit_class = get_class(exp1['deficit_module'], exp1['deficit_name'])\n",
    "        deficit_params = exp1['deficit_params']\n",
    "        deficit = deficit_class(deficit_params)\n",
    "\n",
    "        experiment.add_model(model_wrapper=model_wrapper)\n",
    "\n",
    "\n",
    "        experiment.add_deficit(deficit=deficit)\n",
    "\n",
    "        experiment.train_model()\n",
    "\n"
   ]
  },
  {
   "cell_type": "code",
   "execution_count": 4,
   "id": "b3f475e9",
   "metadata": {},
   "outputs": [
    {
     "name": "stdout",
     "output_type": "stream",
     "text": [
      "[('x91uCBIm', 'TmpTesting'), ('Z5fJKEk9', 'TmpTesting'), ('lIQzN4Rg', 'TmpTesting'), ('4zz4IuuF', 'TmpTesting'), ('GIw74WlC', 'TmpTesting')]\n"
     ]
    }
   ],
   "source": [
    "from Experiment import match_experiments, plot_blur_removal\n",
    "params = {}\n",
    "\n",
    "exp_ids = match_experiments([\"TmpTesting\"], params=params)\n",
    "print(exp_ids)"
   ]
  },
  {
   "cell_type": "code",
   "execution_count": 5,
   "id": "c0f79ae5",
   "metadata": {},
   "outputs": [
    {
     "name": "stdout",
     "output_type": "stream",
     "text": [
      "Already plotted end epoch 8\n",
      "Already plotted end epoch 1\n"
     ]
    },
    {
     "data": {
      "text/plain": [
       "<Axes: xlabel='epoch', ylabel='accuracy'>"
      ]
     },
     "execution_count": 5,
     "metadata": {},
     "output_type": "execute_result"
    },
    {
     "data": {
      "image/png": "[encoded data removed]",
      "text/plain": [
       "<Figure size 640x480 with 1 Axes>"
      ]
     },
     "metadata": {},
     "output_type": "display_data"
    }
   ],
   "source": [
    "plot_blur_removal(exp_ids=exp_ids)"
   ]
  },
  {
   "cell_type": "code",
   "execution_count": 6,
   "id": "6df5ae18",
   "metadata": {},
   "outputs": [],
   "source": [
    "from datetime import datetime\n",
    "now = datetime.now()\n",
    "iso_format = now.isoformat()"
   ]
  },
  {
   "cell_type": "code",
   "execution_count": 7,
   "id": "759e192c",
   "metadata": {},
   "outputs": [
    {
     "name": "stdout",
     "output_type": "stream",
     "text": [
      "<class 'str'>\n"
     ]
    }
   ],
   "source": [
    "print(type(iso_format))\n"
   ]
  },
  {
   "cell_type": "code",
   "execution_count": null,
   "id": "351c9aeb",
   "metadata": {},
   "outputs": [],
   "source": []
  }
 ],
 "metadata": {
  "kernelspec": {
   "display_name": "eds4ai",
   "language": "python",
   "name": "python3"
  },
  "language_info": {
   "codemirror_mode": {
    "name": "ipython",
    "version": 3
   },
   "file_extension": ".py",
   "mimetype": "text/x-python",
   "name": "python",
   "nbconvert_exporter": "python",
   "pygments_lexer": "ipython3",
   "version": "3.11.11"
  }
 },
 "nbformat": 4,
 "nbformat_minor": 5
}
