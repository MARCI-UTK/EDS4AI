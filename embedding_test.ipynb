{
 "cells": [
  {
   "cell_type": "code",
   "execution_count": 87,
   "metadata": {},
   "outputs": [],
   "source": [
    "from transformers import CLIPImageProcessor, CLIPModel\n",
    "import torch\n",
    "from torch.utils.data import ConcatDataset\n",
    "import torchvision\n",
    "import torchvision.transforms.v2 as transforms\n",
    "import numpy as np\n"
   ]
  },
  {
   "cell_type": "code",
   "execution_count": 13,
   "metadata": {},
   "outputs": [],
   "source": [
    "model = CLIPModel.from_pretrained(\"openai/clip-vit-base-patch32\")\n",
    "image_processor = CLIPImageProcessor.from_pretrained(\"openai/clip-vit-base-patch32\")"
   ]
  },
  {
   "cell_type": "code",
   "execution_count": 82,
   "metadata": {},
   "outputs": [
    {
     "name": "stderr",
     "output_type": "stream",
     "text": [
      "/data/marci/mjakowsk/miniconda3/envs/eds4ai/lib/python3.11/site-packages/torchvision/transforms/v2/_deprecated.py:42: UserWarning: The transform `ToTensor()` is deprecated and will be removed in a future release. Instead, please use `v2.Compose([v2.ToImage(), v2.ToDtype(torch.float32, scale=True)])`.Output is equivalent up to float precision.\n",
      "  warnings.warn(\n"
     ]
    },
    {
     "name": "stdout",
     "output_type": "stream",
     "text": [
      "Files already downloaded and verified\n",
      "Files already downloaded and verified\n"
     ]
    }
   ],
   "source": [
    "processing_transform = transforms.Compose(\n",
    "    [transforms.ToTensor(),\n",
    "     transforms.Normalize((0.5, 0.5, 0.5), (0.5, 0.5, 0.5))])\n",
    "\n",
    "\n",
    "set1 = torchvision.datasets.CIFAR10(root='./data', train=True,\n",
    "                                       #download=True, transform=transforms.ToTensor())\n",
    "                                       download=True, transform=processing_transform)\n",
    "\n",
    "set2 = torchvision.datasets.CIFAR10(root='./data/', train=False,\n",
    "                                          #download=True, transform=transforms.ToTensor())\n",
    "                                          download=True, transform=processing_transform)\n",
    "\n",
    "            \n",
    "unified_dataset = ConcatDataset([set1, set2])\n"
   ]
  },
  {
   "cell_type": "code",
   "execution_count": 103,
   "metadata": {},
   "outputs": [
    {
     "name": "stdout",
     "output_type": "stream",
     "text": [
      "(32, 32, 3)\n",
      "torch.Size([3, 32, 32])\n",
      "1\n"
     ]
    },
    {
     "data": {
      "image/png": "[encoded data removed]",
      "text/plain": [
       "<Figure size 640x480 with 1 Axes>"
      ]
     },
     "metadata": {},
     "output_type": "display_data"
    }
   ],
   "source": [
    "data1 = set1.data\n",
    "data2 = set2.data\n",
    "images = np.append(data1,data2, axis=0)\n",
    "\n",
    "targets1 = set1.targets\n",
    "targets2 = set2.targets\n",
    "labels = targets1 + targets2\n",
    "\n",
    "#print(len(targets1 + targets2))\n",
    "#print(set1.__dict__)\n",
    "#print((set1[2][0]).shape)\n",
    "\n",
    "import matplotlib.pyplot as plt\n",
    "\n",
    "index = 9\n",
    "img = images[index + 50000]\n",
    "print(img.shape)\n",
    "print(set2[index][0].shape)\n",
    "#permuted_img = (img.transpose((1, 2, 0)))\n",
    "plt.imshow(img)\n",
    "print(labels[index+50000])"
   ]
  },
  {
   "cell_type": "code",
   "execution_count": 1,
   "metadata": {},
   "outputs": [],
   "source": [
    "import glob\n",
    "from Helper_Functions import create_unified_cifar10_dataset"
   ]
  },
  {
   "cell_type": "code",
   "execution_count": 2,
   "metadata": {},
   "outputs": [
    {
     "name": "stdout",
     "output_type": "stream",
     "text": [
      "<class 'list'>\n",
      "['./data/cifar-10-batches-py/data_batch_4', './data/cifar-10-batches-py/data_batch_3', './data/cifar-10-batches-py/data_batch_2', './data/cifar-10-batches-py/data_batch_5', './data/cifar-10-batches-py/data_batch_1', 'test_batch']\n"
     ]
    }
   ],
   "source": [
    "\n",
    "fns = create_unified_cifar10_dataset()\n",
    "print(fns)"
   ]
  },
  {
   "cell_type": "code",
   "execution_count": null,
   "metadata": {},
   "outputs": [],
   "source": []
  }
 ],
 "metadata": {
  "kernelspec": {
   "display_name": "eds4ai",
   "language": "python",
   "name": "python3"
  },
  "language_info": {
   "codemirror_mode": {
    "name": "ipython",
    "version": 3
   },
   "file_extension": ".py",
   "mimetype": "text/x-python",
   "name": "python",
   "nbconvert_exporter": "python",
   "pygments_lexer": "ipython3",
   "version": "3.11.11"
  }
 },
 "nbformat": 4,
 "nbformat_minor": 2
}
